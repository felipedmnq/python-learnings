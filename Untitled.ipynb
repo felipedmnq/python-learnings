{
 "cells": [
  {
   "cell_type": "code",
   "execution_count": 1,
   "id": "76ad1a1e-c5e1-4432-9a73-10ca98d77c41",
   "metadata": {
    "execution": {
     "iopub.execute_input": "2023-07-05T09:09:12.103180Z",
     "iopub.status.busy": "2023-07-05T09:09:12.101818Z",
     "iopub.status.idle": "2023-07-05T09:09:12.122742Z",
     "shell.execute_reply": "2023-07-05T09:09:12.120455Z",
     "shell.execute_reply.started": "2023-07-05T09:09:12.103122Z"
    },
    "tags": []
   },
   "outputs": [],
   "source": [
    "original_url = \"https://www.opendota.com/explorer?sql=SELECT%0Amatches.match_id%0AFROM%20matches%0AWHERE%0Amatches.start_time%20%3E%3D%20extract(epoch%20from%20timestamp%20%272023-07-02T22%3A00%3A00.000Z%27)%0AORDER%20BY%20matches.match_id%20NULLS%20LAST%0ALIMIT%20200&format=\""
   ]
  },
  {
   "cell_type": "code",
   "execution_count": 2,
   "id": "008b3337-c869-44b2-bfb5-56957003a11b",
   "metadata": {
    "execution": {
     "iopub.execute_input": "2023-07-05T09:36:41.410509Z",
     "iopub.status.busy": "2023-07-05T09:36:41.406694Z",
     "iopub.status.idle": "2023-07-05T09:36:41.433054Z",
     "shell.execute_reply": "2023-07-05T09:36:41.428502Z",
     "shell.execute_reply.started": "2023-07-05T09:36:41.410429Z"
    },
    "tags": []
   },
   "outputs": [],
   "source": [
    "parsed_url = \"https://www.opendota.com/explorer?%0A%20%20%20%20SELECT%20%20%20%20%20matches.match_id%20%20%20%20%20FROM%20matches%20%20%20%20%20WHERE%20%20%20%20%20matches.start_time%20%3E%3D%20extract%28epoch%20from%20timestamp%20%272023-07-04T11%3A04%3A52.785455Z%27%29%20%20%20%20%20ORDER%20BY%20matches.match_id%20NULLS%20LAST%0A%20%20%20%20\""
   ]
  },
  {
   "cell_type": "code",
   "execution_count": null,
   "id": "2bb11fc6-d78b-45d3-b5ee-738f627e0821",
   "metadata": {},
   "outputs": [],
   "source": [
    "'match_id',\n",
    "'barracks_status_dire',\n",
    "'barracks_status_radiant',\n",
    "'cluster',\n",
    "'dire_score',\n",
    "'dire_team_id',\n",
    "'duration',\n",
    "'engine',\n",
    "'first_blood_time',\n",
    "'game_mode',\n",
    "'human_players',\n",
    "'leagueid',\n",
    "'lobby_type',\n",
    "'match_seq_num',\n",
    "'negative_votes',\n",
    "'positive_votes',\n",
    "'radiant_score',\n",
    "'radiant_team_id',\n",
    "'radiant_win',\n",
    "'start_time',\n",
    "'tower_status_dire',\n",
    "'tower_status_radiant',\n",
    "'version',\n",
    "'replay_salt',\n",
    "'series_id',\n",
    "'series_type',\n",
    "'league', \n",
    "'leagueid',\n",
    "'ticket',\n",
    "'banner',\n",
    "'tier',\n",
    "'name',\n",
    "'radiant_tea',\n",
    "'team_id',\n",
    "'name',\n",
    "'tag',\n",
    "'logo_url',\n",
    "'dire_tea,\n",
    "'team_id',\n",
    "'name',\n",
    "'tag',\n",
    "'logo_url',\n",
    "'patch',\n",
    "'region',\n",
    "'throw',\n",
    "'loss',\n",
    "'replay_url'"
   ]
  }
 ],
 "metadata": {
  "kernelspec": {
   "display_name": "Python 3 (ipykernel)",
   "language": "python",
   "name": "python3"
  },
  "language_info": {
   "codemirror_mode": {
    "name": "ipython",
    "version": 3
   },
   "file_extension": ".py",
   "mimetype": "text/x-python",
   "name": "python",
   "nbconvert_exporter": "python",
   "pygments_lexer": "ipython3",
   "version": "3.10.0"
  }
 },
 "nbformat": 4,
 "nbformat_minor": 5
}
