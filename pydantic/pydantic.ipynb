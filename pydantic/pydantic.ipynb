{
 "cells": [
  {
   "attachments": {},
   "cell_type": "markdown",
   "metadata": {},
   "source": [
    "## Imports"
   ]
  },
  {
   "cell_type": "code",
   "execution_count": null,
   "metadata": {},
   "outputs": [],
   "source": [
    "from pydantic import BaseModel\n"
   ]
  },
  {
   "attachments": {},
   "cell_type": "markdown",
   "metadata": {},
   "source": [
    "## Pydantic `BaseModel`.\n",
    "\n",
    "- A pydantic model is baisc a class that inherits from tyhe `BaseModel` class.\n",
    "- To define fields its baically needed to define class attributes."
   ]
  },
  {
   "cell_type": "code",
   "execution_count": 1,
   "metadata": {},
   "outputs": [],
   "source": [
    "from pydantic import BaseModel\n",
    "\n",
    "class Person(BaseModel):\n",
    "    first_name: str\n",
    "    last_name: str\n",
    "    age: int"
   ]
  },
  {
   "cell_type": "code",
   "execution_count": 2,
   "metadata": {},
   "outputs": [
    {
     "data": {
      "text/plain": [
       "Person(first_name='Isac', last_name='Newton', age=84)"
      ]
     },
     "execution_count": 2,
     "metadata": {},
     "output_type": "execute_result"
    }
   ],
   "source": [
    "p = Person(first_name=\"Isac\", last_name=\"Newton\", age=84)\n",
    "p"
   ]
  },
  {
   "attachments": {},
   "cell_type": "markdown",
   "metadata": {},
   "source": [
    "- What happens if we try to pass to the attributes different datatypes?\n",
    "- Pydantic tries to `cast` the datatypes to the correct ones, if possible it just does the job, otherwise it will rise a `ValidationError`.\n",
    "- It basically guarantes that we will have our correct type."
   ]
  },
  {
   "cell_type": "code",
   "execution_count": 3,
   "metadata": {},
   "outputs": [
    {
     "data": {
      "text/plain": [
       "Person(first_name='100', last_name='200', age=3)"
      ]
     },
     "execution_count": 3,
     "metadata": {},
     "output_type": "execute_result"
    }
   ],
   "source": [
    "Person(first_name=100, last_name=200, age=\"3\")"
   ]
  },
  {
   "cell_type": "code",
   "execution_count": 4,
   "metadata": {},
   "outputs": [
    {
     "ename": "ValidationError",
     "evalue": "1 validation error for Person\nage\n  value is not a valid integer (type=type_error.integer)",
     "output_type": "error",
     "traceback": [
      "\u001b[0;31m---------------------------------------------------------------------------\u001b[0m",
      "\u001b[0;31mValidationError\u001b[0m                           Traceback (most recent call last)",
      "Cell \u001b[0;32mIn[4], line 1\u001b[0m\n\u001b[0;32m----> 1\u001b[0m Person(first_name\u001b[39m=\u001b[39;49m\u001b[39m100\u001b[39;49m, last_name\u001b[39m=\u001b[39;49m\u001b[39m200\u001b[39;49m, age\u001b[39m=\u001b[39;49m\u001b[39m\"\u001b[39;49m\u001b[39mx\u001b[39;49m\u001b[39m\"\u001b[39;49m)\n",
      "File \u001b[0;32m/Library/Frameworks/Python.framework/Versions/3.10/lib/python3.10/site-packages/pydantic/main.py:341\u001b[0m, in \u001b[0;36mpydantic.main.BaseModel.__init__\u001b[0;34m()\u001b[0m\n",
      "\u001b[0;31mValidationError\u001b[0m: 1 validation error for Person\nage\n  value is not a valid integer (type=type_error.integer)"
     ]
    }
   ],
   "source": [
    "Person(first_name=100, last_name=200, age=\"x\")"
   ]
  },
  {
   "attachments": {},
   "cell_type": "markdown",
   "metadata": {},
   "source": [
    "- In the same way, if we try to create a \"not complete\" instance of the class, it rises an `ValidationError`. "
   ]
  },
  {
   "cell_type": "code",
   "execution_count": 5,
   "metadata": {},
   "outputs": [
    {
     "name": "stdout",
     "output_type": "stream",
     "text": [
      "2 validation errors for Person\n",
      "last_name\n",
      "  field required (type=value_error.missing)\n",
      "age\n",
      "  field required (type=value_error.missing)\n"
     ]
    }
   ],
   "source": [
    "from pydantic import ValidationError\n",
    "\n",
    "try: \n",
    "    Person(first_name=\"Isac\")\n",
    "except ValidationError as e:\n",
    "    print(e)"
   ]
  },
  {
   "attachments": {},
   "cell_type": "markdown",
   "metadata": {},
   "source": [
    "- It is possible to catch this exception as JSON, allowing to deal with it at runtime."
   ]
  },
  {
   "cell_type": "code",
   "execution_count": 8,
   "metadata": {},
   "outputs": [
    {
     "name": "stdout",
     "output_type": "stream",
     "text": [
      "[\n",
      "  {\n",
      "    \"loc\": [\n",
      "      \"last_name\"\n",
      "    ],\n",
      "    \"msg\": \"field required\",\n",
      "    \"type\": \"value_error.missing\"\n",
      "  },\n",
      "  {\n",
      "    \"loc\": [\n",
      "      \"age\"\n",
      "    ],\n",
      "    \"msg\": \"field required\",\n",
      "    \"type\": \"value_error.missing\"\n",
      "  }\n",
      "]\n"
     ]
    }
   ],
   "source": [
    "from pydantic import ValidationError\n",
    "\n",
    "try: \n",
    "    Person(first_name=\"Isac\")\n",
    "except ValidationError as e:\n",
    "    print(e.json())"
   ]
  },
  {
   "attachments": {},
   "cell_type": "markdown",
   "metadata": {},
   "source": [
    "## Working with optional fields"
   ]
  },
  {
   "cell_type": "code",
   "execution_count": 11,
   "metadata": {},
   "outputs": [],
   "source": [
    "from pydantic import BaseModel\n",
    "from typing import Optional # for python <3.10\n",
    "\n",
    "class Person(BaseModel):\n",
    "    first_name: str\n",
    "    last_name: str\n",
    "    age: int | None # for python >=3.10\n",
    "    # age: Optional[int] # for python <3.10"
   ]
  },
  {
   "cell_type": "code",
   "execution_count": 12,
   "metadata": {},
   "outputs": [
    {
     "data": {
      "text/plain": [
       "Person(first_name='Isac', last_name='Newton', age=None)"
      ]
     },
     "execution_count": 12,
     "metadata": {},
     "output_type": "execute_result"
    }
   ],
   "source": [
    "Person(first_name=\"Isac\", last_name=\"Newton\")"
   ]
  },
  {
   "attachments": {},
   "cell_type": "markdown",
   "metadata": {},
   "source": [
    "## Specifying default values"
   ]
  },
  {
   "cell_type": "code",
   "execution_count": 13,
   "metadata": {},
   "outputs": [],
   "source": [
    "from pydantic import BaseModel\n",
    "\n",
    "# specifying default value == None is the same as have an optional field.\n",
    "class Person(BaseModel):\n",
    "    first_name: str = None\n",
    "    last_name: str\n",
    "    age: int = None "
   ]
  },
  {
   "cell_type": "code",
   "execution_count": 14,
   "metadata": {},
   "outputs": [
    {
     "data": {
      "text/plain": [
       "Person(first_name=None, last_name='Newton', age=None)"
      ]
     },
     "execution_count": 14,
     "metadata": {},
     "output_type": "execute_result"
    }
   ],
   "source": [
    "Person(last_name=\"Newton\")"
   ]
  },
  {
   "cell_type": "code",
   "execution_count": 16,
   "metadata": {},
   "outputs": [
    {
     "name": "stdout",
     "output_type": "stream",
     "text": [
      "[\n",
      "  {\n",
      "    \"loc\": [\n",
      "      \"last_name\"\n",
      "    ],\n",
      "    \"msg\": \"field required\",\n",
      "    \"type\": \"value_error.missing\"\n",
      "  }\n",
      "]\n"
     ]
    }
   ],
   "source": [
    "try:\n",
    "    Person(first_name=\"Isac\", age=84)\n",
    "except ValidationError as e:\n",
    "    print(e.json())"
   ]
  },
  {
   "attachments": {},
   "cell_type": "markdown",
   "metadata": {},
   "source": [
    "## Serializing the model as an dictionary or direct to JSON format."
   ]
  },
  {
   "cell_type": "code",
   "execution_count": 17,
   "metadata": {},
   "outputs": [],
   "source": [
    "from pydantic import BaseModel\n",
    "\n",
    "class Person(BaseModel):\n",
    "    first_name: str = \"Isaac\"\n",
    "    last_name: str\n",
    "    age: int = 84 "
   ]
  },
  {
   "cell_type": "code",
   "execution_count": 18,
   "metadata": {},
   "outputs": [
    {
     "data": {
      "text/plain": [
       "{'first_name': 'Isaac', 'last_name': 'Newton', 'age': 84}"
      ]
     },
     "execution_count": 18,
     "metadata": {},
     "output_type": "execute_result"
    }
   ],
   "source": [
    "isaac = Person(last_name=\"Newton\")\n",
    "isaac.dict()"
   ]
  },
  {
   "cell_type": "code",
   "execution_count": 20,
   "metadata": {},
   "outputs": [
    {
     "data": {
      "text/plain": [
       "'{\"first_name\": \"Isaac\", \"last_name\": \"Newton\", \"age\": 84}'"
      ]
     },
     "execution_count": 20,
     "metadata": {},
     "output_type": "execute_result"
    }
   ],
   "source": [
    "# creating a json string\n",
    "isaac.json()"
   ]
  },
  {
   "cell_type": "code",
   "execution_count": 23,
   "metadata": {},
   "outputs": [
    {
     "data": {
      "text/plain": [
       "{'last_name': 'Newton'}"
      ]
     },
     "execution_count": 23,
     "metadata": {},
     "output_type": "execute_result"
    }
   ],
   "source": [
    "# to exclude/include keys from the dictionary - must be passad as an Set.\n",
    "\n",
    "isaac.dict(exclude={\"first_name\", \"age\"})"
   ]
  },
  {
   "cell_type": "code",
   "execution_count": 26,
   "metadata": {},
   "outputs": [
    {
     "data": {
      "text/plain": [
       "'{\\n    \"last_name\": \"Newton\",\\n    \"age\": 84\\n}'"
      ]
     },
     "execution_count": 26,
     "metadata": {},
     "output_type": "execute_result"
    }
   ],
   "source": [
    "# to work with json we can do the same as before.\n",
    "# It uses JSON 'dumps' function, so it is possible to use all parameters from this method\n",
    "\n",
    "isaac.json(include={\"last_name\", \"age\"}, indent=4)"
   ]
  },
  {
   "cell_type": "code",
   "execution_count": 27,
   "metadata": {},
   "outputs": [
    {
     "name": "stdout",
     "output_type": "stream",
     "text": [
      "{\n",
      "    \"last_name\": \"Newton\",\n",
      "    \"age\": 84\n",
      "}\n"
     ]
    }
   ],
   "source": [
    "print(isaac.json(include={\"last_name\", \"age\"}, indent=4))"
   ]
  },
  {
   "attachments": {},
   "cell_type": "markdown",
   "metadata": {},
   "source": [
    "### Desiarize\n",
    "- Get a json string or a dictionary and create an instance of the model.\n",
    "- It will also `cast` the data appropriatly.\n",
    "- It avoids the lag required using json library for serialization and deserialization."
   ]
  },
  {
   "cell_type": "code",
   "execution_count": 28,
   "metadata": {},
   "outputs": [],
   "source": [
    "from datetime import date\n",
    "from pydantic import BaseModel\n",
    "\n",
    "class Person(BaseModel):\n",
    "    first_name: str = \"Isaac\"\n",
    "    last_name: str\n",
    "    birth: date"
   ]
  },
  {
   "cell_type": "code",
   "execution_count": 31,
   "metadata": {},
   "outputs": [
    {
     "data": {
      "text/plain": [
       "Person(first_name='Isaac', last_name='Newton', birth=datetime.date(1643, 1, 4))"
      ]
     },
     "execution_count": 31,
     "metadata": {},
     "output_type": "execute_result"
    }
   ],
   "source": [
    "isaac_dict = {\n",
    "    \"first_name\": \"Isaac\",\n",
    "    \"last_name\": \"Newton\",\n",
    "    \"birth\": date(1643, 1, 4)\n",
    "}\n",
    "\n",
    "isaac = Person.parse_obj(isaac_dict)\n",
    "isaac"
   ]
  },
  {
   "cell_type": "code",
   "execution_count": 32,
   "metadata": {},
   "outputs": [
    {
     "data": {
      "text/plain": [
       "Person(first_name='Isaac', last_name='Newton', birth=datetime.date(1643, 1, 4))"
      ]
     },
     "execution_count": 32,
     "metadata": {},
     "output_type": "execute_result"
    }
   ],
   "source": [
    "isaac_dict = {\n",
    "    \"first_name\": \"Isaac\",\n",
    "    \"last_name\": \"Newton\",\n",
    "    \"birth\": \"1643-01-04\" # pydantic automatically casts the datatype when its possible.\n",
    "}\n",
    "\n",
    "isaac = Person.parse_obj(isaac_dict)\n",
    "isaac"
   ]
  },
  {
   "cell_type": "code",
   "execution_count": 37,
   "metadata": {},
   "outputs": [
    {
     "data": {
      "text/plain": [
       "Person(first_name='Isaac', last_name='Newton', birth=datetime.date(1643, 1, 4))"
      ]
     },
     "execution_count": 37,
     "metadata": {},
     "output_type": "execute_result"
    }
   ],
   "source": [
    "# it works the same way with json string.\n",
    "\n",
    "isaac_json = '''\n",
    "{\n",
    "    \"first_name\": \"Isaac\",\n",
    "    \"last_name\": \"Newton\",\n",
    "    \"birth\": \"1643-01-04\"\n",
    "}\n",
    "'''\n",
    "\n",
    "# the method changes to 'parse_raw'\n",
    "isaac = Person.parse_raw(isaac_json)\n",
    "isaac"
   ]
  },
  {
   "attachments": {},
   "cell_type": "markdown",
   "metadata": {},
   "source": [
    "## Fields aliases\n",
    "- Casting from json `cammelCase` to python `snake_case` formats.\n",
    "- For `JSON` files the naming convention says that the fields should be `cammelCase`: `firstName`."
   ]
  },
  {
   "cell_type": "code",
   "execution_count": 38,
   "metadata": {},
   "outputs": [],
   "source": [
    "from pydantic import Field\n",
    "from datetime import date\n",
    "from pydantic import BaseModel\n",
    "\n",
    "class Person(BaseModel):\n",
    "    first_name: str = Field(default=\"Isaac\", alias=\"firstName\")\n",
    "    last_name: str = Field(alias=\"lastName\")\n",
    "    birth: date = None\n"
   ]
  },
  {
   "cell_type": "code",
   "execution_count": 77,
   "metadata": {},
   "outputs": [
    {
     "name": "stdout",
     "output_type": "stream",
     "text": [
      "[\n",
      "  {\n",
      "    \"loc\": [\n",
      "      \"lastName\"\n",
      "    ],\n",
      "    \"msg\": \"field required\",\n",
      "    \"type\": \"value_error.missing\"\n",
      "  }\n",
      "]\n"
     ]
    },
    {
     "data": {
      "text/plain": [
       "Person(first_name='Isaac', last_name='Newton', birth=None)"
      ]
     },
     "execution_count": 77,
     "metadata": {},
     "output_type": "execute_result"
    }
   ],
   "source": [
    "isaac_dict_snake = {\n",
    "    \"first_name\": \"Isaac\",\n",
    "    \"last_name\": \"Newton\",\n",
    "    \"birth\": \"1643-01-04\"\n",
    "}\n",
    "\n",
    "try:\n",
    "    isaac = Person.parse_obj(isaac_dict_snake)\n",
    "except ValidationError as e:\n",
    "    print(e.json())\n",
    "    \n",
    "isaac"
   ]
  },
  {
   "cell_type": "code",
   "execution_count": 44,
   "metadata": {},
   "outputs": [
    {
     "data": {
      "text/plain": [
       "Person(first_name='Isaac', last_name='Newton', birth=datetime.date(1643, 1, 4))"
      ]
     },
     "execution_count": 44,
     "metadata": {},
     "output_type": "execute_result"
    }
   ],
   "source": [
    "# in order to deserialize the data when you are using aliases, it is necessary to use the alias name, \"cammelcase\".\n",
    "\n",
    "isaac_dict = {\n",
    "    \"firstName\": \"Isaac\",\n",
    "    \"lastName\": \"Newton\",\n",
    "    \"birth\": \"1643-01-04\"\n",
    "}\n",
    "\n",
    "try:\n",
    "    isaac = Person.parse_obj(isaac_dict)\n",
    "except ValidationError as e:\n",
    "    print(e.json())\n",
    "    \n",
    "isaac"
   ]
  },
  {
   "cell_type": "code",
   "execution_count": 48,
   "metadata": {},
   "outputs": [
    {
     "data": {
      "text/plain": [
       "{'first_name': 'Isaac',\n",
       " 'last_name': 'Newton',\n",
       " 'birth': datetime.date(1643, 1, 4)}"
      ]
     },
     "execution_count": 48,
     "metadata": {},
     "output_type": "execute_result"
    }
   ],
   "source": [
    "# when we deserialiaze, it is used the field name (snakecase) and not the field alias, for both dict and json\n",
    "\n",
    "isaac.dict()"
   ]
  },
  {
   "cell_type": "code",
   "execution_count": 47,
   "metadata": {},
   "outputs": [
    {
     "data": {
      "text/plain": [
       "'{\"first_name\": \"Isaac\", \"last_name\": \"Newton\", \"birth\": \"1643-01-04\"}'"
      ]
     },
     "execution_count": 47,
     "metadata": {},
     "output_type": "execute_result"
    }
   ],
   "source": [
    "isaac.json()"
   ]
  },
  {
   "cell_type": "code",
   "execution_count": 50,
   "metadata": {},
   "outputs": [
    {
     "ename": "ValidationError",
     "evalue": "1 validation error for Person\nlastName\n  field required (type=value_error.missing)",
     "output_type": "error",
     "traceback": [
      "\u001b[0;31m---------------------------------------------------------------------------\u001b[0m",
      "\u001b[0;31mValidationError\u001b[0m                           Traceback (most recent call last)",
      "Cell \u001b[0;32mIn[50], line 3\u001b[0m\n\u001b[1;32m      1\u001b[0m \u001b[39m# When you use alias and you must to create an instance of the model, it is necessary to use the alias - cammelcase\u001b[39;00m\n\u001b[0;32m----> 3\u001b[0m Person(last_name\u001b[39m=\u001b[39;49m\u001b[39m\"\u001b[39;49m\u001b[39mNewton\u001b[39;49m\u001b[39m\"\u001b[39;49m)\n",
      "File \u001b[0;32m/Library/Frameworks/Python.framework/Versions/3.10/lib/python3.10/site-packages/pydantic/main.py:341\u001b[0m, in \u001b[0;36mpydantic.main.BaseModel.__init__\u001b[0;34m()\u001b[0m\n",
      "\u001b[0;31mValidationError\u001b[0m: 1 validation error for Person\nlastName\n  field required (type=value_error.missing)"
     ]
    }
   ],
   "source": [
    "# When you use alias and you must to create an instance of the model, it is necessary to use the alias - cammelcase\n",
    "\n",
    "Person(last_name=\"Newton\")"
   ]
  },
  {
   "cell_type": "code",
   "execution_count": 51,
   "metadata": {},
   "outputs": [
    {
     "data": {
      "text/plain": [
       "Person(first_name='Isaac', last_name='Newton', birth=None)"
      ]
     },
     "execution_count": 51,
     "metadata": {},
     "output_type": "execute_result"
    }
   ],
   "source": [
    "Person(lastName=\"Newton\")"
   ]
  },
  {
   "attachments": {},
   "cell_type": "markdown",
   "metadata": {},
   "source": [
    "- In order to be able to use both field name or alias, it is necessary to set a configuration."
   ]
  },
  {
   "cell_type": "code",
   "execution_count": 82,
   "metadata": {},
   "outputs": [],
   "source": [
    "from pydantic import Field\n",
    "from datetime import date\n",
    "from pydantic import BaseModel\n",
    "\n",
    "class Person(BaseModel):\n",
    "    first_name: str = Field(default=None, alias=\"firstName\")\n",
    "    last_name: str = Field(alias=\"lastName\")\n",
    "    birth: date = None\n",
    "\n",
    "    class Config:\n",
    "        allow_population_by_field_name = True"
   ]
  },
  {
   "cell_type": "code",
   "execution_count": 83,
   "metadata": {},
   "outputs": [
    {
     "data": {
      "text/plain": [
       "Person(first_name='Isaac', last_name='Newton', birth=None)"
      ]
     },
     "execution_count": 83,
     "metadata": {},
     "output_type": "execute_result"
    }
   ],
   "source": [
    "isaac = Person(first_name=\"Isaac\", last_name=\"Newton\")\n",
    "isaac"
   ]
  },
  {
   "cell_type": "code",
   "execution_count": 84,
   "metadata": {},
   "outputs": [
    {
     "data": {
      "text/plain": [
       "Person(first_name='Isaac', last_name='Newton', birth=datetime.date(1643, 1, 4))"
      ]
     },
     "execution_count": 84,
     "metadata": {},
     "output_type": "execute_result"
    }
   ],
   "source": [
    "isaac_dict_cammel = {\n",
    "    \"firstName\": \"Isaac\",\n",
    "    \"lastName\": \"Newton\",\n",
    "    \"birth\": \"1643-01-04\"\n",
    "}\n",
    "\n",
    "Person.parse_obj(isaac_dict_cammel)"
   ]
  },
  {
   "cell_type": "code",
   "execution_count": 85,
   "metadata": {},
   "outputs": [
    {
     "data": {
      "text/plain": [
       "Person(first_name='Isaac', last_name='Newton', birth=None)"
      ]
     },
     "execution_count": 85,
     "metadata": {},
     "output_type": "execute_result"
    }
   ],
   "source": [
    "isaac = Person(first_name=\"Isaac\", last_name=\"Newton\", birth=None)\n",
    "isaac"
   ]
  },
  {
   "cell_type": "code",
   "execution_count": 86,
   "metadata": {},
   "outputs": [
    {
     "data": {
      "text/plain": [
       "{'firstName': 'Isaac', 'lastName': 'Newton', 'birth': None}"
      ]
     },
     "execution_count": 86,
     "metadata": {},
     "output_type": "execute_result"
    }
   ],
   "source": [
    "isaac.dict(by_alias=True)"
   ]
  },
  {
   "cell_type": "code",
   "execution_count": 87,
   "metadata": {},
   "outputs": [
    {
     "data": {
      "text/plain": [
       "'{\"firstName\": \"Isaac\", \"lastName\": \"Newton\", \"birth\": null}'"
      ]
     },
     "execution_count": 87,
     "metadata": {},
     "output_type": "execute_result"
    }
   ],
   "source": [
    "isaac.json(by_alias=True)"
   ]
  },
  {
   "cell_type": "code",
   "execution_count": 88,
   "metadata": {},
   "outputs": [
    {
     "data": {
      "text/plain": [
       "{'first_name': 'Isaac', 'last_name': 'Newton', 'birth': None}"
      ]
     },
     "execution_count": 88,
     "metadata": {},
     "output_type": "execute_result"
    }
   ],
   "source": [
    "isaac.dict()"
   ]
  },
  {
   "cell_type": "code",
   "execution_count": 89,
   "metadata": {},
   "outputs": [
    {
     "data": {
      "text/plain": [
       "{'first_name': 'Isaac',\n",
       " 'last_name': 'Newton',\n",
       " 'birth': '1643-01-04',\n",
       " 'junk': 'extra field'}"
      ]
     },
     "execution_count": 89,
     "metadata": {},
     "output_type": "execute_result"
    }
   ],
   "source": [
    "data_junk = {**isaac_dict_snake, \"junk\": \"extra field\"}\n",
    "data_junk"
   ]
  },
  {
   "cell_type": "code",
   "execution_count": 91,
   "metadata": {},
   "outputs": [
    {
     "data": {
      "text/plain": [
       "Person(first_name='Isaac', last_name='Newton', birth=datetime.date(1643, 1, 4))"
      ]
     },
     "execution_count": 91,
     "metadata": {},
     "output_type": "execute_result"
    }
   ],
   "source": [
    "# By default it ignores the extra field\n",
    "\n",
    "p = Person.parse_obj(data_junk)\n",
    "p"
   ]
  },
  {
   "cell_type": "code",
   "execution_count": 92,
   "metadata": {},
   "outputs": [
    {
     "data": {
      "text/plain": [
       "True"
      ]
     },
     "execution_count": 92,
     "metadata": {},
     "output_type": "execute_result"
    }
   ],
   "source": [
    "hasattr(p, \"first_name\")"
   ]
  },
  {
   "cell_type": "code",
   "execution_count": 93,
   "metadata": {},
   "outputs": [
    {
     "data": {
      "text/plain": [
       "False"
      ]
     },
     "execution_count": 93,
     "metadata": {},
     "output_type": "execute_result"
    }
   ],
   "source": [
    "hasattr(p, \"junk\")"
   ]
  },
  {
   "attachments": {},
   "cell_type": "markdown",
   "metadata": {},
   "source": [
    "### Configure how pydant deal with extra fields\n",
    "- Ignore (default)\n",
    "- Add as a field to the instance of the model.\n",
    "- Forbite - raise an `ValidationException`.\n",
    "\n",
    "`from pydantic import Extra` - extra in an `Enum` object."
   ]
  },
  {
   "cell_type": "code",
   "execution_count": 94,
   "metadata": {},
   "outputs": [],
   "source": [
    "from datetime import date\n",
    "from pydantic import BaseModel, Field, Extra\n",
    "\n",
    "class Person(BaseModel):\n",
    "    first_name: str = Field(default=None, alias=\"firstName\")\n",
    "    last_name: str = Field(alias=\"lastName\")\n",
    "    birth: date = None\n",
    "\n",
    "    class Config:\n",
    "        allow_population_by_field_name = True\n",
    "        extra = Extra.allow\n"
   ]
  },
  {
   "cell_type": "code",
   "execution_count": 95,
   "metadata": {},
   "outputs": [
    {
     "data": {
      "text/plain": [
       "Person(first_name='Isaac', last_name='Newton', birth=datetime.date(1643, 1, 4), junk='extra field')"
      ]
     },
     "execution_count": 95,
     "metadata": {},
     "output_type": "execute_result"
    }
   ],
   "source": [
    "p = Person(**data_junk) # same as Person.parse_obj(data_junk)\n",
    "p"
   ]
  },
  {
   "cell_type": "code",
   "execution_count": 96,
   "metadata": {},
   "outputs": [
    {
     "data": {
      "text/plain": [
       "{'first_name': 'Isaac',\n",
       " 'last_name': 'Newton',\n",
       " 'birth': datetime.date(1643, 1, 4),\n",
       " 'junk': 'extra field'}"
      ]
     },
     "execution_count": 96,
     "metadata": {},
     "output_type": "execute_result"
    }
   ],
   "source": [
    "p.dict()"
   ]
  },
  {
   "cell_type": "code",
   "execution_count": 97,
   "metadata": {},
   "outputs": [],
   "source": [
    "from datetime import date\n",
    "from pydantic import BaseModel, Field, Extra\n",
    "\n",
    "class Person(BaseModel):\n",
    "    first_name: str = Field(default=None, alias=\"firstName\")\n",
    "    last_name: str = Field(alias=\"lastName\")\n",
    "    birth: date = None\n",
    "\n",
    "    class Config:\n",
    "        allow_population_by_field_name = True\n",
    "        extra = Extra.forbid \n",
    "        # it is best practice to use forbit, this way you can know that there is an extra field and it probably should be there or should be in the model definmition."
   ]
  },
  {
   "cell_type": "code",
   "execution_count": 99,
   "metadata": {},
   "outputs": [
    {
     "name": "stdout",
     "output_type": "stream",
     "text": [
      "[\n",
      "  {\n",
      "    \"loc\": [\n",
      "      \"junk\"\n",
      "    ],\n",
      "    \"msg\": \"extra fields not permitted\",\n",
      "    \"type\": \"value_error.extra\"\n",
      "  }\n",
      "]\n"
     ]
    }
   ],
   "source": [
    "try:\n",
    "    p = Person.parse_obj(data_junk)\n",
    "    p\n",
    "except ValidationError as e:\n",
    "    print(e.json())"
   ]
  },
  {
   "attachments": {},
   "cell_type": "markdown",
   "metadata": {},
   "source": [
    "## Easier way to define aliases\n",
    "- Uses customized `BaseModel` class\n",
    "- useful when you have lots of fields with aliases"
   ]
  },
  {
   "cell_type": "code",
   "execution_count": 106,
   "metadata": {},
   "outputs": [],
   "source": [
    "def snake_to_json_camel(value: str) -> str:\n",
    "    if not isinstance(value, str):\n",
    "        raise ValueError(\"Value must be a string.\")\n",
    "    \n",
    "    words = value.split(\"_\")\n",
    "    value = \"\".join(word.title() for word in words if word)\n",
    "    return f\"{value[0].lower()}{value[1:]}\""
   ]
  },
  {
   "cell_type": "code",
   "execution_count": 107,
   "metadata": {},
   "outputs": [
    {
     "data": {
      "text/plain": [
       "'stringTest'"
      ]
     },
     "execution_count": 107,
     "metadata": {},
     "output_type": "execute_result"
    }
   ],
   "source": [
    "snake_to_json_camel(\"__string___test__\")"
   ]
  },
  {
   "cell_type": "code",
   "execution_count": 108,
   "metadata": {},
   "outputs": [],
   "source": [
    "class CustomBaseModel(BaseModel):\n",
    "    class Config:\n",
    "        alias_generator = snake_to_json_camel\n",
    "        extra = Extra.forbid\n",
    "        allow_population_by_field_name = True"
   ]
  },
  {
   "cell_type": "code",
   "execution_count": 109,
   "metadata": {},
   "outputs": [],
   "source": [
    "class Person(CustomBaseModel):\n",
    "    first_name: str = None\n",
    "    last_name: str\n",
    "    birth: date = None"
   ]
  },
  {
   "cell_type": "code",
   "execution_count": 110,
   "metadata": {},
   "outputs": [
    {
     "data": {
      "text/plain": [
       "Person(first_name='Isaac', last_name='Newton', birth=None)"
      ]
     },
     "execution_count": 110,
     "metadata": {},
     "output_type": "execute_result"
    }
   ],
   "source": [
    "p = Person(first_name=\"Isaac\", lastName=\"Newton\")\n",
    "p"
   ]
  },
  {
   "cell_type": "code",
   "execution_count": 111,
   "metadata": {},
   "outputs": [
    {
     "ename": "ValidationError",
     "evalue": "1 validation error for Person\nsnn\n  extra fields not permitted (type=value_error.extra)",
     "output_type": "error",
     "traceback": [
      "\u001b[0;31m---------------------------------------------------------------------------\u001b[0m",
      "\u001b[0;31mValidationError\u001b[0m                           Traceback (most recent call last)",
      "Cell \u001b[0;32mIn[111], line 1\u001b[0m\n\u001b[0;32m----> 1\u001b[0m p \u001b[39m=\u001b[39m Person(first_name\u001b[39m=\u001b[39;49m\u001b[39m\"\u001b[39;49m\u001b[39mIsaac\u001b[39;49m\u001b[39m\"\u001b[39;49m, lastName\u001b[39m=\u001b[39;49m\u001b[39m\"\u001b[39;49m\u001b[39mNewton\u001b[39;49m\u001b[39m\"\u001b[39;49m, snn\u001b[39m=\u001b[39;49m\u001b[39m1234\u001b[39;49m)\n\u001b[1;32m      2\u001b[0m p\n",
      "File \u001b[0;32m/Library/Frameworks/Python.framework/Versions/3.10/lib/python3.10/site-packages/pydantic/main.py:341\u001b[0m, in \u001b[0;36mpydantic.main.BaseModel.__init__\u001b[0;34m()\u001b[0m\n",
      "\u001b[0;31mValidationError\u001b[0m: 1 validation error for Person\nsnn\n  extra fields not permitted (type=value_error.extra)"
     ]
    }
   ],
   "source": [
    "p = Person(first_name=\"Isaac\", lastName=\"Newton\", snn=1234)\n",
    "p"
   ]
  },
  {
   "attachments": {},
   "cell_type": "markdown",
   "metadata": {},
   "source": [
    "## Validation fields"
   ]
  },
  {
   "cell_type": "code",
   "execution_count": 114,
   "metadata": {},
   "outputs": [],
   "source": [
    "from pydantic import conint # constraint integer\n",
    "\n",
    "class Test(CustomBaseModel):\n",
    "    age: conint(gt=0, le=150) # age must be grater than 0 and less or equal to 150"
   ]
  },
  {
   "cell_type": "code",
   "execution_count": 115,
   "metadata": {},
   "outputs": [
    {
     "data": {
      "text/plain": [
       "Test(age=10)"
      ]
     },
     "execution_count": 115,
     "metadata": {},
     "output_type": "execute_result"
    }
   ],
   "source": [
    "Test(age=10)"
   ]
  },
  {
   "cell_type": "code",
   "execution_count": 116,
   "metadata": {},
   "outputs": [
    {
     "ename": "ValidationError",
     "evalue": "1 validation error for Test\nage\n  ensure this value is greater than 0 (type=value_error.number.not_gt; limit_value=0)",
     "output_type": "error",
     "traceback": [
      "\u001b[0;31m---------------------------------------------------------------------------\u001b[0m",
      "\u001b[0;31mValidationError\u001b[0m                           Traceback (most recent call last)",
      "Cell \u001b[0;32mIn[116], line 1\u001b[0m\n\u001b[0;32m----> 1\u001b[0m Test(age \u001b[39m=\u001b[39;49m \u001b[39m-\u001b[39;49m\u001b[39m225\u001b[39;49m)\n",
      "File \u001b[0;32m/Library/Frameworks/Python.framework/Versions/3.10/lib/python3.10/site-packages/pydantic/main.py:341\u001b[0m, in \u001b[0;36mpydantic.main.BaseModel.__init__\u001b[0;34m()\u001b[0m\n",
      "\u001b[0;31mValidationError\u001b[0m: 1 validation error for Test\nage\n  ensure this value is greater than 0 (type=value_error.number.not_gt; limit_value=0)"
     ]
    }
   ],
   "source": [
    "Test(age=-225)"
   ]
  },
  {
   "cell_type": "code",
   "execution_count": 117,
   "metadata": {},
   "outputs": [],
   "source": [
    "from pydantic import conint, constr # constraint string\n",
    "\n",
    "class Test(CustomBaseModel):\n",
    "    age: conint(gt=0, le=150) # age must be grater than 0 and less or equal to 150\n",
    "    first_name: str = None\n",
    "    # strip_whitespace -> remove white spaces\n",
    "    # strict -> do not casts value if it can be casted - it must pass a string type.\n",
    "    # curtail_length -> if the length is greater that he value (25), it uses only the first 25 chars - no exception raised.\n",
    "    last_name: constr(strip_whitespace=True, strict=True, min_length=2, curtail_length=25)"
   ]
  },
  {
   "cell_type": "code",
   "execution_count": 118,
   "metadata": {},
   "outputs": [
    {
     "data": {
      "text/plain": [
       "Test(age=84, first_name=None, last_name='Newton')"
      ]
     },
     "execution_count": 118,
     "metadata": {},
     "output_type": "execute_result"
    }
   ],
   "source": [
    "Test(age=84, last_name=\"    Newton  \")"
   ]
  },
  {
   "cell_type": "code",
   "execution_count": 119,
   "metadata": {},
   "outputs": [
    {
     "ename": "ValidationError",
     "evalue": "1 validation error for Test\nlastName\n  str type expected (type=type_error.str)",
     "output_type": "error",
     "traceback": [
      "\u001b[0;31m---------------------------------------------------------------------------\u001b[0m",
      "\u001b[0;31mValidationError\u001b[0m                           Traceback (most recent call last)",
      "Cell \u001b[0;32mIn[119], line 1\u001b[0m\n\u001b[0;32m----> 1\u001b[0m Test(age\u001b[39m=\u001b[39;49m\u001b[39m84\u001b[39;49m, last_name\u001b[39m=\u001b[39;49m\u001b[39m1236\u001b[39;49m)\n",
      "File \u001b[0;32m/Library/Frameworks/Python.framework/Versions/3.10/lib/python3.10/site-packages/pydantic/main.py:341\u001b[0m, in \u001b[0;36mpydantic.main.BaseModel.__init__\u001b[0;34m()\u001b[0m\n",
      "\u001b[0;31mValidationError\u001b[0m: 1 validation error for Test\nlastName\n  str type expected (type=type_error.str)"
     ]
    }
   ],
   "source": [
    "Test(age=84, last_name=1236)"
   ]
  },
  {
   "cell_type": "code",
   "execution_count": 122,
   "metadata": {},
   "outputs": [
    {
     "ename": "ValidationError",
     "evalue": "1 validation error for Test\nlastName\n  ensure this value has at least 2 characters (type=value_error.any_str.min_length; limit_value=2)",
     "output_type": "error",
     "traceback": [
      "\u001b[0;31m---------------------------------------------------------------------------\u001b[0m",
      "\u001b[0;31mValidationError\u001b[0m                           Traceback (most recent call last)",
      "Cell \u001b[0;32mIn[122], line 1\u001b[0m\n\u001b[0;32m----> 1\u001b[0m Test(age\u001b[39m=\u001b[39;49m\u001b[39m84\u001b[39;49m, last_name\u001b[39m=\u001b[39;49m\u001b[39m\"\u001b[39;49m\u001b[39m     A       \u001b[39;49m\u001b[39m\"\u001b[39;49m)\n",
      "File \u001b[0;32m/Library/Frameworks/Python.framework/Versions/3.10/lib/python3.10/site-packages/pydantic/main.py:341\u001b[0m, in \u001b[0;36mpydantic.main.BaseModel.__init__\u001b[0;34m()\u001b[0m\n",
      "\u001b[0;31mValidationError\u001b[0m: 1 validation error for Test\nlastName\n  ensure this value has at least 2 characters (type=value_error.any_str.min_length; limit_value=2)"
     ]
    }
   ],
   "source": [
    "Test(age=84, last_name=\"     A       \")"
   ]
  },
  {
   "cell_type": "code",
   "execution_count": 121,
   "metadata": {},
   "outputs": [
    {
     "data": {
      "text/plain": [
       "Test(age=84, first_name=None, last_name='Newton--Newton--Newton--N')"
      ]
     },
     "execution_count": 121,
     "metadata": {},
     "output_type": "execute_result"
    }
   ],
   "source": [
    "Test(age=84, last_name=\"Newton--Newton--Newton--Newton--Newton--Newton--\")"
   ]
  },
  {
   "cell_type": "code",
   "execution_count": 123,
   "metadata": {},
   "outputs": [],
   "source": [
    "from pydantic import validator\n",
    "\n",
    "class Test(CustomBaseModel):\n",
    "    hash_tag: str\n",
    "\n",
    "    @validator(\"hash_tag\")\n",
    "    def validade_hash_tag(cls, value):\n",
    "        if not value.startswith(\"#\"):\n",
    "            raise ValueError(\"Hash tag must start with a '#'\")\n",
    "        return value.lower()"
   ]
  },
  {
   "cell_type": "code",
   "execution_count": 124,
   "metadata": {},
   "outputs": [
    {
     "data": {
      "text/plain": [
       "Test(hash_tag='#test')"
      ]
     },
     "execution_count": 124,
     "metadata": {},
     "output_type": "execute_result"
    }
   ],
   "source": [
    "t = Test(hash_tag=\"#TEST\")\n",
    "t"
   ]
  },
  {
   "cell_type": "code",
   "execution_count": 125,
   "metadata": {},
   "outputs": [
    {
     "ename": "ValidationError",
     "evalue": "1 validation error for Test\nhashTag\n  Hash tag must start with a '#' (type=value_error)",
     "output_type": "error",
     "traceback": [
      "\u001b[0;31m---------------------------------------------------------------------------\u001b[0m",
      "\u001b[0;31mValidationError\u001b[0m                           Traceback (most recent call last)",
      "Cell \u001b[0;32mIn[125], line 1\u001b[0m\n\u001b[0;32m----> 1\u001b[0m t \u001b[39m=\u001b[39m Test(hash_tag\u001b[39m=\u001b[39;49m\u001b[39m\"\u001b[39;49m\u001b[39mTEST\u001b[39;49m\u001b[39m\"\u001b[39;49m)\n\u001b[1;32m      2\u001b[0m t\n",
      "File \u001b[0;32m/Library/Frameworks/Python.framework/Versions/3.10/lib/python3.10/site-packages/pydantic/main.py:341\u001b[0m, in \u001b[0;36mpydantic.main.BaseModel.__init__\u001b[0;34m()\u001b[0m\n",
      "\u001b[0;31mValidationError\u001b[0m: 1 validation error for Test\nhashTag\n  Hash tag must start with a '#' (type=value_error)"
     ]
    }
   ],
   "source": [
    "t = Test(hash_tag=\"TEST\")\n",
    "t"
   ]
  },
  {
   "cell_type": "code",
   "execution_count": 127,
   "metadata": {},
   "outputs": [],
   "source": [
    "from pydantic import conint, constr\n",
    "from pydantic import validator\n",
    "\n",
    "class Test(CustomBaseModel):\n",
    "    hash_tag: constr(min_length=5, strip_whitespace=True)\n",
    "\n",
    "    @validator(\"hash_tag\")\n",
    "    def validate_hash_tag(cls, value: str):\n",
    "        if not value.startswith(\"#\"):\n",
    "            return f\"#{value.lower()}\"\n",
    "        return value.lower()"
   ]
  },
  {
   "cell_type": "code",
   "execution_count": 129,
   "metadata": {},
   "outputs": [
    {
     "data": {
      "text/plain": [
       "Test(hash_tag='#test5')"
      ]
     },
     "execution_count": 129,
     "metadata": {},
     "output_type": "execute_result"
    }
   ],
   "source": [
    "t = Test(hash_tag=\"TEST5\")\n",
    "t"
   ]
  },
  {
   "cell_type": "code",
   "execution_count": 137,
   "metadata": {},
   "outputs": [],
   "source": [
    "from enum import Enum\n",
    "from typing import List, Tuple, Union\n",
    "\n",
    "class PolygonType(Enum):\n",
    "    triangle = 3\n",
    "    tetragon = 4\n",
    "    pentagon = 5\n",
    "    hexagon = 6"
   ]
  },
  {
   "cell_type": "code",
   "execution_count": 138,
   "metadata": {},
   "outputs": [
    {
     "data": {
      "text/plain": [
       "<PolygonType.triangle: 3>"
      ]
     },
     "execution_count": 138,
     "metadata": {},
     "output_type": "execute_result"
    }
   ],
   "source": [
    "p = PolygonType.triangle\n",
    "p"
   ]
  },
  {
   "cell_type": "code",
   "execution_count": 139,
   "metadata": {},
   "outputs": [
    {
     "data": {
      "text/plain": [
       "'triangle'"
      ]
     },
     "metadata": {},
     "output_type": "display_data"
    },
    {
     "data": {
      "text/plain": [
       "3"
      ]
     },
     "metadata": {},
     "output_type": "display_data"
    }
   ],
   "source": [
    "display(p.name)\n",
    "display(p.value)"
   ]
  },
  {
   "cell_type": "code",
   "execution_count": 149,
   "metadata": {},
   "outputs": [],
   "source": [
    "from pydantic import validator\n",
    "\n",
    "class PolygonModel(CustomBaseModel):\n",
    "    polygon_type: PolygonType\n",
    "    vertices: list[tuple[int | float, int | float]]\n",
    "\n",
    "    @validator(\"vertices\")\n",
    "    def validate_vertices(cls, value, values): # the value and values must be this names, pydantic uses it\n",
    "        polygon_type = values.get(\"polygon_type\")\n",
    "        \n",
    "        if polygon_type:\n",
    "            num_vertices_required = polygon_type.value\n",
    "            print(num_vertices_required)\n",
    "\n",
    "            if len(value) != num_vertices_required:\n",
    "                raise ValueError(\n",
    "                    f\"For a {polygon_type.name}, exactly {polygon_type.value} vertices are required\"\n",
    "                )\n",
    "        \n",
    "        return value"
   ]
  },
  {
   "cell_type": "code",
   "execution_count": 150,
   "metadata": {},
   "outputs": [
    {
     "name": "stdout",
     "output_type": "stream",
     "text": [
      "3\n"
     ]
    },
    {
     "data": {
      "text/plain": [
       "PolygonModel(polygon_type=<PolygonType.triangle: 3>, vertices=[(1, 1), (2, 2), (3, 3)])"
      ]
     },
     "execution_count": 150,
     "metadata": {},
     "output_type": "execute_result"
    }
   ],
   "source": [
    "PolygonModel(polygon_type=PolygonType.triangle, vertices=[(1, 1), (2, 2), (3, 3)])"
   ]
  },
  {
   "cell_type": "code",
   "execution_count": 151,
   "metadata": {},
   "outputs": [
    {
     "ename": "ValidationError",
     "evalue": "2 validation errors for PolygonModel\nvertices -> 2 -> 1\n  value is not a valid integer (type=type_error.integer)\nvertices -> 2 -> 1\n  value is not a valid float (type=type_error.float)",
     "output_type": "error",
     "traceback": [
      "\u001b[0;31m---------------------------------------------------------------------------\u001b[0m",
      "\u001b[0;31mValidationError\u001b[0m                           Traceback (most recent call last)",
      "Cell \u001b[0;32mIn[151], line 1\u001b[0m\n\u001b[0;32m----> 1\u001b[0m PolygonModel(polygon_type\u001b[39m=\u001b[39;49mPolygonType\u001b[39m.\u001b[39;49mtriangle, vertices\u001b[39m=\u001b[39;49m[(\u001b[39m1\u001b[39;49m, \u001b[39m1\u001b[39;49m), (\u001b[39m2\u001b[39;49m, \u001b[39m2\u001b[39;49m), (\u001b[39m3\u001b[39;49m, \u001b[39m3\u001b[39;49m\u001b[39m+\u001b[39;49m\u001b[39m2\u001b[39;49mj)])\n",
      "File \u001b[0;32m/Library/Frameworks/Python.framework/Versions/3.10/lib/python3.10/site-packages/pydantic/main.py:341\u001b[0m, in \u001b[0;36mpydantic.main.BaseModel.__init__\u001b[0;34m()\u001b[0m\n",
      "\u001b[0;31mValidationError\u001b[0m: 2 validation errors for PolygonModel\nvertices -> 2 -> 1\n  value is not a valid integer (type=type_error.integer)\nvertices -> 2 -> 1\n  value is not a valid float (type=type_error.float)"
     ]
    }
   ],
   "source": [
    "PolygonModel(polygon_type=PolygonType.triangle, vertices=[(1, 1), (2, 2), (3, 3+2j)])"
   ]
  },
  {
   "cell_type": "code",
   "execution_count": 152,
   "metadata": {},
   "outputs": [
    {
     "name": "stdout",
     "output_type": "stream",
     "text": [
      "5\n"
     ]
    },
    {
     "ename": "ValidationError",
     "evalue": "1 validation error for PolygonModel\nvertices\n  For a pentagon, exactly 5 vertices are required (type=value_error)",
     "output_type": "error",
     "traceback": [
      "\u001b[0;31m---------------------------------------------------------------------------\u001b[0m",
      "\u001b[0;31mValidationError\u001b[0m                           Traceback (most recent call last)",
      "Cell \u001b[0;32mIn[152], line 1\u001b[0m\n\u001b[0;32m----> 1\u001b[0m PolygonModel(polygon_type\u001b[39m=\u001b[39;49mPolygonType\u001b[39m.\u001b[39;49mpentagon, vertices\u001b[39m=\u001b[39;49m[(\u001b[39m1\u001b[39;49m, \u001b[39m1\u001b[39;49m), (\u001b[39m2\u001b[39;49m, \u001b[39m2\u001b[39;49m), (\u001b[39m3\u001b[39;49m, \u001b[39m3\u001b[39;49m)])\n",
      "File \u001b[0;32m/Library/Frameworks/Python.framework/Versions/3.10/lib/python3.10/site-packages/pydantic/main.py:341\u001b[0m, in \u001b[0;36mpydantic.main.BaseModel.__init__\u001b[0;34m()\u001b[0m\n",
      "\u001b[0;31mValidationError\u001b[0m: 1 validation error for PolygonModel\nvertices\n  For a pentagon, exactly 5 vertices are required (type=value_error)"
     ]
    }
   ],
   "source": [
    "PolygonModel(polygon_type=PolygonType.pentagon, vertices=[(1, 1), (2, 2), (3, 3)])"
   ]
  },
  {
   "attachments": {},
   "cell_type": "markdown",
   "metadata": {},
   "source": [
    "## Nested Models\n",
    "\n",
    "- Post\n",
    "    - byline (one or more authors)\n",
    "        - author:\n",
    "            - first_name (required, min 2 chars, max 20 chars)\n",
    "            - last_name (required, min 1 chars, max 20 chars)\n",
    "            - display_name (optional, default to first name, initial of last name, min 1 char, max 20 chars)\n",
    "    - title (required, at leat 10 chars, max 50 chars, force title case)\n",
    "    - sub_title (optional, min 20 chars, max 100 chars)\n",
    "    - body (required, min 100 chars, max None)\n",
    "    - links (0 or more)\n",
    "        - link:\n",
    "            - name (required, min 5 chars, max 25 chars)\n",
    "            - url (required, valid url, must include scheme [http/https])"
   ]
  },
  {
   "cell_type": "code",
   "execution_count": 187,
   "metadata": {},
   "outputs": [],
   "source": [
    "from pydantic import BaseModel, conlist, constr\n",
    "from pydantic import validator, AnyHttpUrl\n",
    "\n",
    "class CustomBaseModel(BaseModel):\n",
    "    class Config:\n",
    "        extra = Extra.forbid\n",
    "        allow_population_by_field_name = True\n",
    "\n",
    "class Author(CustomBaseModel):\n",
    "    first_name: constr(min_length=2, max_length=20, strip_whitespace=True)\n",
    "    last_name: constr(min_length=1, max_length=20, strip_whitespace=True)\n",
    "    display_name: constr(min_length=1, max_length=25) = None\n",
    "\n",
    "    # always = True forces the validator to run, even if display_name is None, this is\n",
    "    # how we can set a dynamic default value\n",
    "    @validator(\"display_name\", always=True)\n",
    "    def validate_display_name(cls, value, values):\n",
    "        # validator runs, even if previous did not validate properly\n",
    "        # so we need to run our code only if prior fields validate OK\n",
    "        if not value and \"first_name\" and \"last_name\" in values:\n",
    "            first_name = values[\"first_name\"]\n",
    "            last_name = values[\"last_name\"]\n",
    "            return f\"{first_name} {(last_name[0]).upper()}\"\n",
    "        return value\n",
    "\n",
    "class Link(CustomBaseModel):\n",
    "    name: constr(min_length=5, max_length=25)\n",
    "    url: AnyHttpUrl\n",
    "\n",
    "class Post(CustomBaseModel):\n",
    "    byline: conlist(item_type=Author, min_items=1)\n",
    "    title: constr(min_length=10, max_length=50, strip_whitespace=True)\n",
    "    sub_title: constr(min_length=20, max_length=100, strip_whitespace=True) = None\n",
    "    body: constr(min_length=100, strip_whitespace=True)\n",
    "    links: list[Link] = []\n",
    "\n",
    "    @validator(\"title\")\n",
    "    def validate_title(cls, value):\n",
    "        return value and value.title()"
   ]
  },
  {
   "cell_type": "code",
   "execution_count": 188,
   "metadata": {},
   "outputs": [
    {
     "data": {
      "text/plain": [
       "Link(name='links', url=AnyHttpUrl('https://link', ))"
      ]
     },
     "execution_count": 188,
     "metadata": {},
     "output_type": "execute_result"
    }
   ],
   "source": [
    "Link(name=\"links\", url=\"https://link\")"
   ]
  },
  {
   "cell_type": "code",
   "execution_count": 189,
   "metadata": {},
   "outputs": [
    {
     "data": {
      "text/plain": [
       "Author(first_name='John', last_name='Do', display_name='John D')"
      ]
     },
     "execution_count": 189,
     "metadata": {},
     "output_type": "execute_result"
    }
   ],
   "source": [
    "Author(first_name=\"John\", last_name=\"Do\")"
   ]
  },
  {
   "cell_type": "code",
   "execution_count": 195,
   "metadata": {},
   "outputs": [
    {
     "name": "stdout",
     "output_type": "stream",
     "text": [
      "{\n",
      "    \"byline\": [\n",
      "        {\n",
      "            \"first_name\": \"John\",\n",
      "            \"last_name\": \"Do\",\n",
      "            \"display_name\": \"John D\"\n",
      "        },\n",
      "        {\n",
      "            \"first_name\": \"Mary\",\n",
      "            \"last_name\": \"Do\",\n",
      "            \"display_name\": \"Little Mary\"\n",
      "        }\n",
      "    ],\n",
      "    \"title\": \"The Long Hair Of A Bold Man\",\n",
      "    \"sub_title\": null,\n",
      "    \"body\": \"test, test, test, test, test, test, test, test, test, test, test, test, test, test, test, test, test, test, test, test,\",\n",
      "    \"links\": [\n",
      "        {\n",
      "            \"name\": \"links\",\n",
      "            \"url\": \"https://link\"\n",
      "        },\n",
      "        {\n",
      "            \"name\": \"links2\",\n",
      "            \"url\": \"https://link2\"\n",
      "        }\n",
      "    ]\n",
      "}\n"
     ]
    }
   ],
   "source": [
    "post = Post(\n",
    "    byline=[\n",
    "        Author(first_name=\"John\", last_name=\"Do\"),\n",
    "        Author(first_name=\"Mary\", last_name=\"Do\", display_name=\"Little Mary\")\n",
    "    ],\n",
    "    title=\"the long Hair of a bold man\",\n",
    "    body=\"test, \" * 20,\n",
    "    links=[\n",
    "        Link(name=\"links\", url=\"https://link\"),\n",
    "        Link(name=\"links2\", url=\"https://link2\")\n",
    "    ]\n",
    ")\n",
    "\n",
    "print(post.json(indent=4))"
   ]
  },
  {
   "attachments": {},
   "cell_type": "markdown",
   "metadata": {},
   "source": [
    "## Work with pydantic model object"
   ]
  },
  {
   "cell_type": "code",
   "execution_count": 196,
   "metadata": {},
   "outputs": [],
   "source": [
    "post_2 = Post(\n",
    "    byline=[\n",
    "        Author(first_name=\"John\", last_name=\"Do\"),\n",
    "        Author(first_name=\"Mary\", last_name=\"Do\", display_name=\"Little Mary\")\n",
    "    ],\n",
    "    title=\"the long Hair of a bold man\",\n",
    "    body=\"test, \" * 20,\n",
    "    links=[\n",
    "        Link(name=\"links\", url=\"https://link\"),\n",
    "        Link(name=\"links2\", url=\"https://link2\")\n",
    "    ]\n",
    ")"
   ]
  },
  {
   "cell_type": "code",
   "execution_count": 198,
   "metadata": {},
   "outputs": [
    {
     "name": "stdout",
     "output_type": "stream",
     "text": [
      "{\n",
      "    \"byline\": [\n",
      "        {\n",
      "            \"first_name\": \"John\",\n",
      "            \"last_name\": \"Do\",\n",
      "            \"display_name\": \"John D\"\n",
      "        },\n",
      "        {\n",
      "            \"first_name\": \"Mary\",\n",
      "            \"last_name\": \"Do\",\n",
      "            \"display_name\": \"Little Mary\"\n",
      "        },\n",
      "        {\n",
      "            \"first_name\": \"Felipe\",\n",
      "            \"last_name\": \"Vasconcelos\",\n",
      "            \"display_name\": \"Felipe V\"\n",
      "        },\n",
      "        {\n",
      "            \"first_name\": \"Felipe\",\n",
      "            \"last_name\": \"Vasconcelos\",\n",
      "            \"display_name\": \"Felipe V\"\n",
      "        }\n",
      "    ],\n",
      "    \"title\": \"The Long Hair Of A Bold Man\",\n",
      "    \"sub_title\": null,\n",
      "    \"body\": \"test, test, test, test, test, test, test, test, test, test, test, test, test, test, test, test, test, test, test, test,\",\n",
      "    \"links\": [\n",
      "        {\n",
      "            \"name\": \"links\",\n",
      "            \"url\": \"https://link\"\n",
      "        },\n",
      "        {\n",
      "            \"name\": \"links2\",\n",
      "            \"url\": \"https://link2\"\n",
      "        }\n",
      "    ]\n",
      "}\n"
     ]
    }
   ],
   "source": [
    "post_2.byline.append(Author(first_name=\"Felipe\", last_name=\"Vasconcelos\"))\n",
    "print(post_2.json(indent=4))"
   ]
  },
  {
   "cell_type": "code",
   "execution_count": 199,
   "metadata": {},
   "outputs": [
    {
     "name": "stdout",
     "output_type": "stream",
     "text": [
      "{\n",
      "    \"byline\": [\n",
      "        {\n",
      "            \"first_name\": \"John\",\n",
      "            \"last_name\": \"Do\",\n",
      "            \"display_name\": \"John D\"\n",
      "        },\n",
      "        {\n",
      "            \"first_name\": \"Mary\",\n",
      "            \"last_name\": \"Do\",\n",
      "            \"display_name\": \"Little Mary\"\n",
      "        },\n",
      "        {\n",
      "            \"first_name\": \"Felipe\",\n",
      "            \"last_name\": \"Vasconcelos\",\n",
      "            \"display_name\": \"Felipe V\"\n",
      "        },\n",
      "        {\n",
      "            \"first_name\": \"Felipe\",\n",
      "            \"last_name\": \"Vasconcelos\",\n",
      "            \"display_name\": \"Felipe V\"\n",
      "        },\n",
      "        {\n",
      "            \"first_name\": \"Felipe\",\n",
      "            \"last_name\": \"Vasconcelos\",\n",
      "            \"display_name\": \"Felipe V\"\n",
      "        }\n",
      "    ],\n",
      "    \"title\": \"The Long Hair Of A Bold Man\",\n",
      "    \"sub_title\": null,\n",
      "    \"body\": \"test, test, test, test, test, test, test, test, test, test, test, test, test, test, test, test, test, test, test, test,\",\n",
      "    \"links\": [\n",
      "        {\n",
      "            \"name\": \"links\",\n",
      "            \"url\": \"https://link\"\n",
      "        },\n",
      "        {\n",
      "            \"name\": \"links2\",\n",
      "            \"url\": \"https://link2\"\n",
      "        }\n",
      "    ]\n",
      "}\n"
     ]
    }
   ],
   "source": [
    "post_2.byline.append(Author(first_name=\"Felipe\", last_name=\"Vasconcelos\"))\n",
    "print(post_2.json(by_alias=True, indent=4))"
   ]
  },
  {
   "cell_type": "code",
   "execution_count": 201,
   "metadata": {},
   "outputs": [
    {
     "name": "stdout",
     "output_type": "stream",
     "text": [
      "{\n",
      "    \"title\": \"Post\",\n",
      "    \"type\": \"object\",\n",
      "    \"properties\": {\n",
      "        \"byline\": {\n",
      "            \"title\": \"Byline\",\n",
      "            \"minItems\": 1,\n",
      "            \"type\": \"array\",\n",
      "            \"items\": {\n",
      "                \"$ref\": \"#/definitions/Author\"\n",
      "            }\n",
      "        },\n",
      "        \"title\": {\n",
      "            \"title\": \"Title\",\n",
      "            \"minLength\": 10,\n",
      "            \"maxLength\": 50,\n",
      "            \"type\": \"string\"\n",
      "        },\n",
      "        \"sub_title\": {\n",
      "            \"title\": \"Sub Title\",\n",
      "            \"minLength\": 20,\n",
      "            \"maxLength\": 100,\n",
      "            \"type\": \"string\"\n",
      "        },\n",
      "        \"body\": {\n",
      "            \"title\": \"Body\",\n",
      "            \"minLength\": 100,\n",
      "            \"type\": \"string\"\n",
      "        },\n",
      "        \"links\": {\n",
      "            \"title\": \"Links\",\n",
      "            \"default\": [],\n",
      "            \"type\": \"array\",\n",
      "            \"items\": {\n",
      "                \"$ref\": \"#/definitions/Link\"\n",
      "            }\n",
      "        }\n",
      "    },\n",
      "    \"required\": [\n",
      "        \"byline\",\n",
      "        \"title\",\n",
      "        \"body\"\n",
      "    ],\n",
      "    \"additionalProperties\": false,\n",
      "    \"definitions\": {\n",
      "        \"Author\": {\n",
      "            \"title\": \"Author\",\n",
      "            \"type\": \"object\",\n",
      "            \"properties\": {\n",
      "                \"first_name\": {\n",
      "                    \"title\": \"First Name\",\n",
      "                    \"minLength\": 2,\n",
      "                    \"maxLength\": 20,\n",
      "                    \"type\": \"string\"\n",
      "                },\n",
      "                \"last_name\": {\n",
      "                    \"title\": \"Last Name\",\n",
      "                    \"minLength\": 1,\n",
      "                    \"maxLength\": 20,\n",
      "                    \"type\": \"string\"\n",
      "                },\n",
      "                \"display_name\": {\n",
      "                    \"title\": \"Display Name\",\n",
      "                    \"minLength\": 1,\n",
      "                    \"maxLength\": 25,\n",
      "                    \"type\": \"string\"\n",
      "                }\n",
      "            },\n",
      "            \"required\": [\n",
      "                \"first_name\",\n",
      "                \"last_name\"\n",
      "            ],\n",
      "            \"additionalProperties\": false\n",
      "        },\n",
      "        \"Link\": {\n",
      "            \"title\": \"Link\",\n",
      "            \"type\": \"object\",\n",
      "            \"properties\": {\n",
      "                \"name\": {\n",
      "                    \"title\": \"Name\",\n",
      "                    \"minLength\": 5,\n",
      "                    \"maxLength\": 25,\n",
      "                    \"type\": \"string\"\n",
      "                },\n",
      "                \"url\": {\n",
      "                    \"title\": \"Url\",\n",
      "                    \"minLength\": 1,\n",
      "                    \"maxLength\": 65536,\n",
      "                    \"format\": \"uri\",\n",
      "                    \"type\": \"string\"\n",
      "                }\n",
      "            },\n",
      "            \"required\": [\n",
      "                \"name\",\n",
      "                \"url\"\n",
      "            ],\n",
      "            \"additionalProperties\": false\n",
      "        }\n",
      "    }\n",
      "}\n"
     ]
    }
   ],
   "source": [
    "print(Post.schema_json(indent=4))"
   ]
  },
  {
   "cell_type": "markdown",
   "metadata": {},
   "source": []
  }
 ],
 "metadata": {
  "kernelspec": {
   "display_name": "Python 3",
   "language": "python",
   "name": "python3"
  },
  "language_info": {
   "codemirror_mode": {
    "name": "ipython",
    "version": 3
   },
   "file_extension": ".py",
   "mimetype": "text/x-python",
   "name": "python",
   "nbconvert_exporter": "python",
   "pygments_lexer": "ipython3",
   "version": "3.10.0"
  },
  "orig_nbformat": 4
 },
 "nbformat": 4,
 "nbformat_minor": 2
}
