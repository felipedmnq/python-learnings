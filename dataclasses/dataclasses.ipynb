{
 "cells": [
  {
   "attachments": {},
   "cell_type": "markdown",
   "metadata": {},
   "source": [
    "# Dataclasses\n",
    "\n",
    "What is a DATACLASS?\n",
    "    - A dataclass is simply a CODE GENERATOR that allows us to define custom classes using \n",
    "    different syntax, and allows us to generate a 'BOILERPLATE' code.\n",
    "\n",
    "    - Examples of code generators: collections.namedtuple; typing.NamedTuple\n",
    "\n",
    "    - Dataclasses are used for datastructures."
   ]
  },
  {
   "cell_type": "code",
   "execution_count": 30,
   "metadata": {},
   "outputs": [],
   "source": [
    "class Circle:\n",
    "    def __init__(self, x: int = 0, y: int = 0, radius: int = 1):\n",
    "        self.x = x\n",
    "        self.y = y\n",
    "        self.radius = radius"
   ]
  },
  {
   "cell_type": "code",
   "execution_count": 31,
   "metadata": {},
   "outputs": [
    {
     "data": {
      "text/plain": [
       "<__main__.Circle at 0x1139e0130>"
      ]
     },
     "execution_count": 31,
     "metadata": {},
     "output_type": "execute_result"
    }
   ],
   "source": [
    "c = Circle()\n",
    "c"
   ]
  },
  {
   "cell_type": "code",
   "execution_count": 32,
   "metadata": {},
   "outputs": [],
   "source": [
    "class Circle:\n",
    "    def __init__(self, x: int = 0, y: int = 0, radius: int = 1):\n",
    "        self.x = x\n",
    "        self.y = y\n",
    "        self.radius = radius\n",
    "\n",
    "    def __repr__(self):\n",
    "        # use __qualname__ instead of __name__\n",
    "        ## __qualname__ return inheritance chain and __name__ only return the class name.\n",
    "        return f\"{self.__class__.__qualname__}(x={self.x}, y={self.y}, radius={self.radius})\""
   ]
  },
  {
   "cell_type": "code",
   "execution_count": 33,
   "metadata": {},
   "outputs": [
    {
     "data": {
      "text/plain": [
       "Circle(x=0, y=0, radius=1)"
      ]
     },
     "execution_count": 33,
     "metadata": {},
     "output_type": "execute_result"
    }
   ],
   "source": [
    "c = Circle()\n",
    "c"
   ]
  },
  {
   "attachments": {},
   "cell_type": "markdown",
   "metadata": {},
   "source": [
    "## Normal class using class variable - dataclass\n",
    "\n",
    "- Now the example is using class variables and not instance variables as the example before."
   ]
  },
  {
   "cell_type": "code",
   "execution_count": 35,
   "metadata": {},
   "outputs": [],
   "source": [
    "from dataclasses import dataclass"
   ]
  },
  {
   "cell_type": "code",
   "execution_count": 35,
   "metadata": {},
   "outputs": [],
   "source": [
    "@dataclass\n",
    "class CircleDataClass:\n",
    "    x: int = 0\n",
    "    y: int = 0\n",
    "    radius: int = 1"
   ]
  },
  {
   "cell_type": "code",
   "execution_count": 36,
   "metadata": {},
   "outputs": [
    {
     "data": {
      "text/plain": [
       "CircleDataClass(x=0, y=0, radius=1)"
      ]
     },
     "execution_count": 36,
     "metadata": {},
     "output_type": "execute_result"
    }
   ],
   "source": [
    "cd = CircleDataClass()\n",
    "cd"
   ]
  },
  {
   "attachments": {},
   "cell_type": "markdown",
   "metadata": {},
   "source": [
    "- Dataclass decorator creates all the necessary dunder methods to represent our class, like `__repr__`, `__dict__`..."
   ]
  },
  {
   "cell_type": "code",
   "execution_count": 37,
   "metadata": {},
   "outputs": [
    {
     "data": {
      "text/plain": [
       "{'x': 122, 'y': 0, 'radius': 1}"
      ]
     },
     "execution_count": 37,
     "metadata": {},
     "output_type": "execute_result"
    }
   ],
   "source": [
    "cd.x = 122\n",
    "cd.__dict__"
   ]
  },
  {
   "cell_type": "code",
   "execution_count": 38,
   "metadata": {},
   "outputs": [
    {
     "data": {
      "text/plain": [
       "{'x': 0, 'y': -356, 'radius': 1}"
      ]
     },
     "execution_count": 38,
     "metadata": {},
     "output_type": "execute_result"
    }
   ],
   "source": [
    "cd2 = CircleDataClass()\n",
    "cd2.y = -356\n",
    "cd2.__dict__"
   ]
  },
  {
   "cell_type": "code",
   "execution_count": 37,
   "metadata": {},
   "outputs": [],
   "source": [
    "@dataclass(slots=True)\n",
    "class CircleDataClass:\n",
    "    x: int = 0\n",
    "    y: int = 0\n",
    "    radius: int = 1"
   ]
  },
  {
   "cell_type": "code",
   "execution_count": 41,
   "metadata": {},
   "outputs": [
    {
     "data": {
      "text/plain": [
       "('x', 'y', 'radius')"
      ]
     },
     "execution_count": 41,
     "metadata": {},
     "output_type": "execute_result"
    }
   ],
   "source": [
    "cd2 = CircleDataClass()\n",
    "cd2.y = -356\n",
    "cd2.__slots__"
   ]
  },
  {
   "cell_type": "markdown",
   "metadata": {},
   "source": [
    "## Equality comparisons"
   ]
  },
  {
   "cell_type": "code",
   "execution_count": 39,
   "metadata": {},
   "outputs": [
    {
     "data": {
      "text/plain": [
       "False"
      ]
     },
     "execution_count": 39,
     "metadata": {},
     "output_type": "execute_result"
    }
   ],
   "source": [
    "c1 = Circle(1, 1, 1)\n",
    "c2 = Circle(1, 1, 1)\n",
    "c1 == c2"
   ]
  },
  {
   "cell_type": "code",
   "execution_count": 40,
   "metadata": {},
   "outputs": [
    {
     "data": {
      "text/plain": [
       "False"
      ]
     },
     "execution_count": 40,
     "metadata": {},
     "output_type": "execute_result"
    }
   ],
   "source": [
    "c1 is c2"
   ]
  },
  {
   "attachments": {},
   "cell_type": "markdown",
   "metadata": {},
   "source": [
    "- For normal classes, to have the comparison function, it is necessary to implement it as the `__eq__` method.\n",
    "- Dataclasses implement the `__eq__` method by default"
   ]
  },
  {
   "cell_type": "code",
   "execution_count": 41,
   "metadata": {},
   "outputs": [
    {
     "data": {
      "text/plain": [
       "True"
      ]
     },
     "execution_count": 41,
     "metadata": {},
     "output_type": "execute_result"
    }
   ],
   "source": [
    "cd1 = CircleDataClass()\n",
    "cd2 = CircleDataClass()\n",
    "cd1 == cd2"
   ]
  },
  {
   "cell_type": "code",
   "execution_count": 42,
   "metadata": {},
   "outputs": [
    {
     "data": {
      "text/plain": [
       "False"
      ]
     },
     "execution_count": 42,
     "metadata": {},
     "output_type": "execute_result"
    }
   ],
   "source": [
    "cd1 is cd2"
   ]
  },
  {
   "attachments": {},
   "cell_type": "markdown",
   "metadata": {},
   "source": [
    "## Implementing the `__eq__` method.\n",
    "\n",
    "- implementing the `__eq__` method by hand."
   ]
  },
  {
   "cell_type": "code",
   "execution_count": 43,
   "metadata": {},
   "outputs": [],
   "source": [
    "class Circle:\n",
    "    def __init__(self, x: int = 0, y: int = 0, radius: int = 1):\n",
    "        self.x = x\n",
    "        self.y = y\n",
    "        self.radius = radius\n",
    "\n",
    "    def __repr__(self):\n",
    "        # use __qualname__ instead of __name__\n",
    "        ## __qualname__ return inheritance chain and __name__ only return the class name.\n",
    "        return f\"{self.__class__.__qualname__}(x={self.x}, y={self.y}, radius={self.radius})\"\n",
    "\n",
    "    def __eq__(self, other):\n",
    "        # to have the comparison functionality it necessary to implement the __eq__ method.\n",
    "        if self.__class__ == other.__class__:\n",
    "            return (self.x, self.y, self.radius) == (other.x, other.y, other.radius)\n",
    "        # best practice:\n",
    "        return NotImplemented"
   ]
  },
  {
   "cell_type": "code",
   "execution_count": 44,
   "metadata": {},
   "outputs": [
    {
     "data": {
      "text/plain": [
       "False"
      ]
     },
     "execution_count": 44,
     "metadata": {},
     "output_type": "execute_result"
    }
   ],
   "source": [
    "c1 = Circle(1, 1, 1)\n",
    "c2 = Circle(1, 1, 1)\n",
    "c1 is c2"
   ]
  },
  {
   "cell_type": "code",
   "execution_count": 45,
   "metadata": {},
   "outputs": [
    {
     "data": {
      "text/plain": [
       "True"
      ]
     },
     "execution_count": 45,
     "metadata": {},
     "output_type": "execute_result"
    }
   ],
   "source": [
    "c1 == c2"
   ]
  },
  {
   "attachments": {},
   "cell_type": "markdown",
   "metadata": {},
   "source": [
    "## Hash\n",
    "\n",
    "- By default dataclasses are not hashable"
   ]
  },
  {
   "cell_type": "code",
   "execution_count": 46,
   "metadata": {},
   "outputs": [
    {
     "ename": "TypeError",
     "evalue": "unhashable type: 'CircleDataClass'",
     "output_type": "error",
     "traceback": [
      "\u001b[0;31m---------------------------------------------------------------------------\u001b[0m",
      "\u001b[0;31mTypeError\u001b[0m                                 Traceback (most recent call last)",
      "Cell \u001b[0;32mIn[46], line 1\u001b[0m\n\u001b[0;32m----> 1\u001b[0m \u001b[39mhash\u001b[39;49m(cd1)\n",
      "\u001b[0;31mTypeError\u001b[0m: unhashable type: 'CircleDataClass'"
     ]
    }
   ],
   "source": [
    "hash(cd1)"
   ]
  },
  {
   "cell_type": "code",
   "execution_count": 47,
   "metadata": {},
   "outputs": [],
   "source": [
    "class Circle:\n",
    "    def __init__(self, x: int = 0, y: int = 0, radius: int = 1):\n",
    "        self.x = x\n",
    "        self.y = y\n",
    "        self.radius = radius\n",
    "\n",
    "    def __repr__(self):\n",
    "        # use __qualname__ instead of __name__\n",
    "        ## __qualname__ return inheritance chain and __name__ only return the class name.\n",
    "        return f\"{self.__class__.__qualname__}(x={self.x}, y={self.y}, radius={self.radius})\"\n",
    "\n",
    "    def __eq__(self, other):\n",
    "        # to have the comparison functionality it necessary to implement the __eq__ method.\n",
    "        if self.__class__ == other.__class__:\n",
    "            return (self.x, self.y, self.radius) == (other.x, other.y, other.radius)\n",
    "        # best practice:\n",
    "        return NotImplemented\n",
    "\n",
    "    def __hash__(self):\n",
    "        return hash((self.x, self.y, self.radius))"
   ]
  },
  {
   "cell_type": "code",
   "execution_count": 48,
   "metadata": {},
   "outputs": [
    {
     "data": {
      "text/plain": [
       "True"
      ]
     },
     "execution_count": 48,
     "metadata": {},
     "output_type": "execute_result"
    }
   ],
   "source": [
    "c1 = Circle()\n",
    "c2 = Circle()\n",
    "c1 == c2"
   ]
  },
  {
   "cell_type": "code",
   "execution_count": 49,
   "metadata": {},
   "outputs": [
    {
     "data": {
      "text/plain": [
       "(-1882636517035687140, -1882636517035687140)"
      ]
     },
     "execution_count": 49,
     "metadata": {},
     "output_type": "execute_result"
    }
   ],
   "source": [
    "hash(c1), hash(c2) "
   ]
  },
  {
   "cell_type": "code",
   "execution_count": 50,
   "metadata": {},
   "outputs": [
    {
     "data": {
      "text/plain": [
       "{Circle(x=0, y=0, radius=1)}"
      ]
     },
     "execution_count": 50,
     "metadata": {},
     "output_type": "execute_result"
    }
   ],
   "source": [
    "set_ = {c1, c2}\n",
    "set_"
   ]
  },
  {
   "cell_type": "code",
   "execution_count": 51,
   "metadata": {},
   "outputs": [],
   "source": [
    "dict_ = {\n",
    "    c1: \"Circle 1\"\n",
    "}"
   ]
  },
  {
   "cell_type": "code",
   "execution_count": 52,
   "metadata": {},
   "outputs": [
    {
     "data": {
      "text/plain": [
       "'Circle 1'"
      ]
     },
     "execution_count": 52,
     "metadata": {},
     "output_type": "execute_result"
    }
   ],
   "source": [
    "dict_[c1]"
   ]
  },
  {
   "attachments": {},
   "cell_type": "markdown",
   "metadata": {},
   "source": [
    "### Hashable objects should be immutable\n",
    "\n",
    "- Set variables in python as immutable is not possibl;e, the way around it is to set them as private"
   ]
  },
  {
   "cell_type": "code",
   "execution_count": 53,
   "metadata": {},
   "outputs": [],
   "source": [
    "class Circle:\n",
    "    def __init__(self, x: int = 0, y: int = 0, radius: int = 1):\n",
    "        self._x = x\n",
    "        self._y = y\n",
    "        self._radius = radius\n",
    "\n",
    "    def __repr__(self):\n",
    "        # use __qualname__ instead of __name__\n",
    "        ## __qualname__ return inheritance chain and __name__ only return the class name.\n",
    "        return f\"{self.__class__.__qualname__}(x={self.x}, y={self.y}, radius={self.radius})\"\n",
    "\n",
    "    def __eq__(self, other):\n",
    "        # to have the comparison functionality it necessary to implement the __eq__ method.\n",
    "        if self.__class__ == other.__class__:\n",
    "            return (self.x, self.y, self.radius) == (other.x, other.y, other.radius)\n",
    "        # best practice:\n",
    "        return NotImplemented\n",
    "\n",
    "    def __hash__(self):\n",
    "        return hash((self.x, self.y, self.radius))\n",
    "\n",
    "    # read only properties.\n",
    "    # dataclasses uses another approach to create read only variables.\n",
    "    # dataclasses overwrite the __setattr__ and __getattr__ methods.\n",
    "    @property\n",
    "    def x(self):\n",
    "        return self._x\n",
    "\n",
    "    @property\n",
    "    def y(self):\n",
    "        return self._y\n",
    "\n",
    "    @property\n",
    "    def radius(self):\n",
    "        return self._radius"
   ]
  },
  {
   "attachments": {},
   "cell_type": "markdown",
   "metadata": {},
   "source": [
    "## Immutable dataclass\n",
    "\n",
    "- dataclasses do not uses read only properties. It uses another approach to create read only variables.\n",
    "- dataclasses overwrite the __setattr__ and __getattr__ methods.\n",
    "- `@dataclass(frozen=True)`.\n",
    "- Every field in the dataclass will be immutable.\n"
   ]
  },
  {
   "cell_type": "code",
   "execution_count": 54,
   "metadata": {},
   "outputs": [],
   "source": [
    "@dataclass(frozen=True)\n",
    "class CircleDataClass:\n",
    "    x: int = 0\n",
    "    y: int = 0\n",
    "    radius: int = 1"
   ]
  },
  {
   "attachments": {},
   "cell_type": "markdown",
   "metadata": {},
   "source": [
    "- Now all the variables from the dataclass are immutable.\n",
    "- Now it is possible to HASH instances of the dataclass, because they are immutable."
   ]
  },
  {
   "cell_type": "code",
   "execution_count": 55,
   "metadata": {},
   "outputs": [
    {
     "data": {
      "text/plain": [
       "(-1882636517035687140, -1882636517035687140, -1882636517035687140)"
      ]
     },
     "execution_count": 55,
     "metadata": {},
     "output_type": "execute_result"
    }
   ],
   "source": [
    "cd1 = CircleDataClass()\n",
    "cd2 = CircleDataClass()\n",
    "cd3 = CircleDataClass()\n",
    "\n",
    "hash(cd1), hash(cd2), hash(cd3)"
   ]
  },
  {
   "attachments": {},
   "cell_type": "markdown",
   "metadata": {},
   "source": [
    "## Ordering\n",
    "\n",
    "- Logic comparisons: `__lt__`, `__le__`, `__et__`...\n",
    "- There is no need to implement both greater than and less than. With one method python understands the other.\n",
    "- Same for greater or equal to and less or equal to.\n",
    "- The `total_ordering` decorator from the `functools` module implements the logical comparison dunder methods for you. You just need to implement one comparison dunder method and the decorator modifies your class assing the other ones.\n",
    "\n",
    "### Ordering in dataclasses\n",
    "\n",
    "- By default dataclasses do not implement any ordering.\n",
    "- In order to enable comparioson between instances of the same dataclass you must to set `@dataclass(order=True)`.\n"
   ]
  },
  {
   "cell_type": "code",
   "execution_count": 56,
   "metadata": {},
   "outputs": [
    {
     "ename": "TypeError",
     "evalue": "'<' not supported between instances of 'Circle' and 'Circle'",
     "output_type": "error",
     "traceback": [
      "\u001b[0;31m---------------------------------------------------------------------------\u001b[0m",
      "\u001b[0;31mTypeError\u001b[0m                                 Traceback (most recent call last)",
      "Cell \u001b[0;32mIn[56], line 4\u001b[0m\n\u001b[1;32m      1\u001b[0m c1 \u001b[39m=\u001b[39m Circle()\n\u001b[1;32m      2\u001b[0m c2 \u001b[39m=\u001b[39m Circle(\u001b[39m1\u001b[39m, \u001b[39m1\u001b[39m, \u001b[39m2\u001b[39m)\n\u001b[0;32m----> 4\u001b[0m c1 \u001b[39m<\u001b[39;49m c2\n",
      "\u001b[0;31mTypeError\u001b[0m: '<' not supported between instances of 'Circle' and 'Circle'"
     ]
    }
   ],
   "source": [
    "c1 = Circle()\n",
    "c2 = Circle(1, 1, 2)\n",
    "\n",
    "c1 < c2"
   ]
  },
  {
   "attachments": {},
   "cell_type": "markdown",
   "metadata": {},
   "source": [
    "### Implementing logical comparison methods"
   ]
  },
  {
   "cell_type": "code",
   "execution_count": 65,
   "metadata": {},
   "outputs": [],
   "source": [
    "class Circle:\n",
    "    def __init__(self, x: int = 0, y: int = 0, radius: int = 1):\n",
    "        self._x = x\n",
    "        self._y = y\n",
    "        self._radius = radius\n",
    "\n",
    "    # read only properties.\n",
    "    # dataclasses uses another approach to create read only variables.\n",
    "    # dataclasses overwrite the __setattr__ and __getattr__ methods.\n",
    "    @property\n",
    "    def x(self):\n",
    "        return self._x\n",
    "\n",
    "    @property\n",
    "    def y(self):\n",
    "        return self._y\n",
    "\n",
    "    @property\n",
    "    def radius(self):\n",
    "        return self._radius\n",
    "\n",
    "    def __repr__(self):\n",
    "        # use __qualname__ instead of __name__\n",
    "        ## __qualname__ return inheritance chain and __name__ only return the class name.\n",
    "        return f\"{self.__class__.__qualname__}(x={self.x}, y={self.y}, radius={self.radius})\"\n",
    "\n",
    "    def __eq__(self, other):\n",
    "        # to have the comparison functionality it necessary to implement the __eq__ method.\n",
    "        if self.__class__ == other.__class__:\n",
    "            return (self.x, self.y, self.radius) == (other.x, other.y, other.radius)\n",
    "        # best practice:\n",
    "        return NotImplemented\n",
    "\n",
    "    def __hash__(self):\n",
    "        return hash((self.x, self.y, self.radius))\n",
    "\n",
    "    # There is no need to implement both greater than and less than.\n",
    "    # With one method python understands the other.\n",
    "    def __lt__(self, other):\n",
    "        if self.__class__ == other.__class__:\n",
    "            return (self.x, self.y, self.radius) < (other.x, other.y, other.radius)\n",
    "        return NotImplemented\n",
    "    \n",
    "    # There is no need to implement both greater or equal to than and less than or equal to.\n",
    "    # With one method python understands the other.\n",
    "    def __le__(self, other):\n",
    "        if self.__class__ == other.__class__:\n",
    "            return (self.x, self.y, self.radius) <= (other.x, other.y, other.radius)\n",
    "        return NotImplemented"
   ]
  },
  {
   "cell_type": "code",
   "execution_count": 66,
   "metadata": {},
   "outputs": [
    {
     "data": {
      "text/plain": [
       "True"
      ]
     },
     "execution_count": 66,
     "metadata": {},
     "output_type": "execute_result"
    }
   ],
   "source": [
    "c1 = Circle()\n",
    "c2 = Circle(1, 1, 2)\n",
    "\n",
    "c1 < c2"
   ]
  },
  {
   "cell_type": "code",
   "execution_count": 68,
   "metadata": {},
   "outputs": [
    {
     "data": {
      "text/plain": [
       "True"
      ]
     },
     "execution_count": 68,
     "metadata": {},
     "output_type": "execute_result"
    }
   ],
   "source": [
    "c1 <= c2"
   ]
  },
  {
   "cell_type": "code",
   "execution_count": 74,
   "metadata": {},
   "outputs": [],
   "source": [
    "from functools import total_ordering\n",
    "\n",
    "# The `total_ordering` decorator from the `functools` module implements the logical comparison dunder methods for you.\n",
    "# You just need to implement one comparison dunder method and the decorator modifies your class assing the other ones.\n",
    "@total_ordering\n",
    "class Circle:\n",
    "    def __init__(self, x: int = 0, y: int = 0, radius: int = 1):\n",
    "        self._x = x\n",
    "        self._y = y\n",
    "        self._radius = radius\n",
    "\n",
    "    # read only properties.\n",
    "    # dataclasses uses another approach to create read only variables.\n",
    "    # dataclasses overwrite the __setattr__ and __getattr__ methods.\n",
    "    @property\n",
    "    def x(self):\n",
    "        return self._x\n",
    "\n",
    "    @property\n",
    "    def y(self):\n",
    "        return self._y\n",
    "\n",
    "    @property\n",
    "    def radius(self):\n",
    "        return self._radius\n",
    "\n",
    "    def __repr__(self):\n",
    "        # use __qualname__ instead of __name__\n",
    "        ## __qualname__ return inheritance chain and __name__ only return the class name.\n",
    "        return f\"{self.__class__.__qualname__}(x={self.x}, y={self.y}, radius={self.radius})\"\n",
    "\n",
    "    def __eq__(self, other):\n",
    "        # to have the comparison functionality it necessary to implement the __eq__ method.\n",
    "        if self.__class__ == other.__class__:\n",
    "            return (self.x, self.y, self.radius) == (other.x, other.y, other.radius)\n",
    "        # best practice:\n",
    "        return NotImplemented\n",
    "\n",
    "    def __hash__(self):\n",
    "        return hash((self.x, self.y, self.radius))\n",
    "\n",
    "    # There is no need to implement both greater than and less than.\n",
    "    # With one method python understands the other.\n",
    "    def __lt__(self, other):\n",
    "        if self.__class__ == other.__class__:\n",
    "            return (self.x, self.y, self.radius) < (other.x, other.y, other.radius)\n",
    "        return NotImplemented"
   ]
  },
  {
   "cell_type": "code",
   "execution_count": 75,
   "metadata": {},
   "outputs": [
    {
     "data": {
      "text/plain": [
       "True"
      ]
     },
     "execution_count": 75,
     "metadata": {},
     "output_type": "execute_result"
    }
   ],
   "source": [
    "c1 = Circle()\n",
    "c2 = Circle(1, 1, 2)\n",
    "\n",
    "c1 <= c2"
   ]
  },
  {
   "attachments": {},
   "cell_type": "markdown",
   "metadata": {},
   "source": [
    "### Ordering with dataclasses"
   ]
  },
  {
   "cell_type": "code",
   "execution_count": 76,
   "metadata": {},
   "outputs": [
    {
     "ename": "TypeError",
     "evalue": "'<' not supported between instances of 'CircleDataClass' and 'CircleDataClass'",
     "output_type": "error",
     "traceback": [
      "\u001b[0;31m---------------------------------------------------------------------------\u001b[0m",
      "\u001b[0;31mTypeError\u001b[0m                                 Traceback (most recent call last)",
      "Cell \u001b[0;32mIn[76], line 4\u001b[0m\n\u001b[1;32m      1\u001b[0m cd1 \u001b[39m=\u001b[39m CircleDataClass()\n\u001b[1;32m      2\u001b[0m cd2 \u001b[39m=\u001b[39m CircleDataClass(\u001b[39m1\u001b[39m, \u001b[39m2\u001b[39m, \u001b[39m3\u001b[39m)\n\u001b[0;32m----> 4\u001b[0m cd1 \u001b[39m<\u001b[39;49m cd2\n",
      "\u001b[0;31mTypeError\u001b[0m: '<' not supported between instances of 'CircleDataClass' and 'CircleDataClass'"
     ]
    }
   ],
   "source": [
    "cd1 = CircleDataClass()\n",
    "cd2 = CircleDataClass(1, 2, 3)\n",
    "\n",
    "cd1 < cd2"
   ]
  },
  {
   "cell_type": "code",
   "execution_count": 77,
   "metadata": {},
   "outputs": [],
   "source": [
    "@dataclass(frozen=True, order=True)\n",
    "class CircleDataClass:\n",
    "    x: int = 0\n",
    "    y: int = 0\n",
    "    radius: int = 1"
   ]
  },
  {
   "cell_type": "code",
   "execution_count": 78,
   "metadata": {},
   "outputs": [
    {
     "data": {
      "text/plain": [
       "True"
      ]
     },
     "execution_count": 78,
     "metadata": {},
     "output_type": "execute_result"
    }
   ],
   "source": [
    "cd1 = CircleDataClass()\n",
    "cd2 = CircleDataClass(1, 2, 3)\n",
    "\n",
    "cd1 < cd2"
   ]
  },
  {
   "attachments": {},
   "cell_type": "markdown",
   "metadata": {},
   "source": [
    "## Serialization\n",
    "\n",
    "### dataclasses\n",
    "\n",
    "- To enable sirialization for dataclasses you must to import the `asdict` and `astuple` methods from dataclasses module.\n",
    "\n",
    "### Custom class\n",
    "\n",
    "- To enable serialization you must to create the `asdict` and `astuple` methods."
   ]
  },
  {
   "cell_type": "code",
   "execution_count": 79,
   "metadata": {},
   "outputs": [],
   "source": [
    "from dataclasses import asdict, astuple"
   ]
  },
  {
   "cell_type": "code",
   "execution_count": 80,
   "metadata": {},
   "outputs": [
    {
     "data": {
      "text/plain": [
       "{'x': 0, 'y': 0, 'radius': 1}"
      ]
     },
     "metadata": {},
     "output_type": "display_data"
    },
    {
     "data": {
      "text/plain": [
       "(0, 0, 1)"
      ]
     },
     "metadata": {},
     "output_type": "display_data"
    }
   ],
   "source": [
    "cd1 = CircleDataClass()\n",
    "\n",
    "display(asdict(cd1))\n",
    "display(astuple(cd1))"
   ]
  },
  {
   "cell_type": "code",
   "execution_count": 83,
   "metadata": {},
   "outputs": [],
   "source": [
    "from functools import total_ordering\n",
    "\n",
    "# The `total_ordering` decorator from the `functools` module implements the logical comparison dunder methods for you.\n",
    "# You just need to implement one comparison dunder method and the decorator modifies your class assing the other ones.\n",
    "@total_ordering\n",
    "class Circle:\n",
    "    def __init__(self, x: int = 0, y: int = 0, radius: int = 1):\n",
    "        self._x = x\n",
    "        self._y = y\n",
    "        self._radius = radius\n",
    "\n",
    "    # read only properties.\n",
    "    # dataclasses uses another approach to create read only variables.\n",
    "    # dataclasses overwrite the __setattr__ and __getattr__ methods.\n",
    "    @property\n",
    "    def x(self):\n",
    "        return self._x\n",
    "\n",
    "    @property\n",
    "    def y(self):\n",
    "        return self._y\n",
    "\n",
    "    @property\n",
    "    def radius(self):\n",
    "        return self._radius\n",
    "\n",
    "    def __repr__(self):\n",
    "        # use __qualname__ instead of __name__\n",
    "        ## __qualname__ return inheritance chain and __name__ only return the class name.\n",
    "        return f\"{self.__class__.__qualname__}(x={self.x}, y={self.y}, radius={self.radius})\"\n",
    "\n",
    "    def __eq__(self, other):\n",
    "        # to have the comparison functionality it necessary to implement the __eq__ method.\n",
    "        if self.__class__ == other.__class__:\n",
    "            return (self.x, self.y, self.radius) == (other.x, other.y, other.radius)\n",
    "        # best practice:\n",
    "        return NotImplemented\n",
    "\n",
    "    def __hash__(self):\n",
    "        return hash((self.x, self.y, self.radius))\n",
    "\n",
    "    # There is no need to implement both greater than and less than.\n",
    "    # With one method python understands the other.\n",
    "    def __lt__(self, other):\n",
    "        if self.__class__ == other.__class__:\n",
    "            return (self.x, self.y, self.radius) < (other.x, other.y, other.radius)\n",
    "        return NotImplemented\n",
    "\n",
    "    # add serialization as dict\n",
    "    def asdict(self):\n",
    "        return {\n",
    "            \"x\": self.x,\n",
    "            \"y\": self.y,\n",
    "            \"radius\": self.radius,\n",
    "        }\n",
    "\n",
    "    # add serialization as tuple\n",
    "    def astuple(self):\n",
    "        return self.x, self.y, self.radius"
   ]
  },
  {
   "cell_type": "code",
   "execution_count": 84,
   "metadata": {},
   "outputs": [
    {
     "data": {
      "text/plain": [
       "{'x': 0, 'y': 0, 'radius': 1}"
      ]
     },
     "execution_count": 84,
     "metadata": {},
     "output_type": "execute_result"
    }
   ],
   "source": [
    "c1 = Circle()\n",
    "c1.asdict()"
   ]
  },
  {
   "attachments": {},
   "cell_type": "markdown",
   "metadata": {},
   "source": [
    "## Introspection\n",
    "\n",
    "- With dataclasses is easy to have introspection.\n",
    "- To use it you must to use the `fields` method from `dataclasses` module."
   ]
  },
  {
   "cell_type": "code",
   "execution_count": 85,
   "metadata": {},
   "outputs": [],
   "source": [
    "from dataclasses import fields"
   ]
  },
  {
   "cell_type": "code",
   "execution_count": 89,
   "metadata": {},
   "outputs": [
    {
     "name": "stdout",
     "output_type": "stream",
     "text": [
      "Field(name='x',type=<class 'int'>,default=0,default_factory=<dataclasses._MISSING_TYPE object at 0x10f4e9ab0>,init=True,repr=True,hash=None,compare=True,metadata=mappingproxy({}),kw_only=False,_field_type=_FIELD)\n",
      "-----------------\n",
      "Field(name='y',type=<class 'int'>,default=0,default_factory=<dataclasses._MISSING_TYPE object at 0x10f4e9ab0>,init=True,repr=True,hash=None,compare=True,metadata=mappingproxy({}),kw_only=False,_field_type=_FIELD)\n",
      "-----------------\n",
      "Field(name='radius',type=<class 'int'>,default=1,default_factory=<dataclasses._MISSING_TYPE object at 0x10f4e9ab0>,init=True,repr=True,hash=None,compare=True,metadata=mappingproxy({}),kw_only=False,_field_type=_FIELD)\n",
      "-----------------\n"
     ]
    }
   ],
   "source": [
    "c1 = CircleDataClass()\n",
    "\n",
    "for field in fields(c1):\n",
    "    print(field, end=\"\\n-----------------\\n\")"
   ]
  },
  {
   "attachments": {},
   "cell_type": "markdown",
   "metadata": {},
   "source": [
    "## Custom dataclasses\n",
    "\n",
    "- A dataclass is just a normal class with a decorator on top of it.\n",
    "- It is possible to add methods and properties and all the same functionalities as a normal class.\n",
    "- This also means that it is possible to overwrite the special dunder methods and modify them."
   ]
  },
  {
   "cell_type": "code",
   "execution_count": 90,
   "metadata": {},
   "outputs": [],
   "source": [
    "from math import pi\n",
    "\n",
    "@dataclass(frozen=True, order=True)\n",
    "class CircleDataClass:\n",
    "    x: int = 0\n",
    "    y: int = 0\n",
    "    radius: int = 1\n",
    "\n",
    "    @property\n",
    "    def area(self):\n",
    "        return pi * self.radius ** 2\n",
    "\n",
    "    def circunference(self):\n",
    "        return 2 * pi * self.radius"
   ]
  },
  {
   "cell_type": "code",
   "execution_count": 91,
   "metadata": {},
   "outputs": [
    {
     "data": {
      "text/plain": [
       "3.141592653589793"
      ]
     },
     "metadata": {},
     "output_type": "display_data"
    },
    {
     "data": {
      "text/plain": [
       "6.283185307179586"
      ]
     },
     "metadata": {},
     "output_type": "display_data"
    }
   ],
   "source": [
    "cd = CircleDataClass()\n",
    "display(cd.area)\n",
    "display(cd.circunference())"
   ]
  },
  {
   "attachments": {},
   "cell_type": "markdown",
   "metadata": {},
   "source": [
    "## Sorting\n",
    "\n",
    "- Based on specific variable.\n",
    "- Based in a property."
   ]
  },
  {
   "cell_type": "code",
   "execution_count": 105,
   "metadata": {},
   "outputs": [],
   "source": [
    "from math import pi, dist\n",
    "\n",
    "@dataclass(frozen=True) #order=True)\n",
    "class CircleDataClass:\n",
    "    x: int = 0\n",
    "    y: int = 0\n",
    "    radius: int = 1\n",
    "\n",
    "    @property\n",
    "    def area(self):\n",
    "        return pi * self.radius ** 2\n",
    "\n",
    "    def circunference(self):\n",
    "        return 2 * pi * self.radius\n",
    "\n",
    "    def __lt__(self, other):\n",
    "        if self.__class__ == other.__class__:\n",
    "            return dist((0, 0), (self.x, self.y)) < dist((0, 0), (other.x, other.y))\n",
    "        return NotImplemented"
   ]
  },
  {
   "cell_type": "code",
   "execution_count": 106,
   "metadata": {},
   "outputs": [
    {
     "data": {
      "text/plain": [
       "True"
      ]
     },
     "execution_count": 106,
     "metadata": {},
     "output_type": "execute_result"
    }
   ],
   "source": [
    "cd1 = CircleDataClass(1, 1, 2)\n",
    "cd2 = CircleDataClass(2, 2, 1)\n",
    "\n",
    "cd1 < cd2"
   ]
  },
  {
   "cell_type": "code",
   "execution_count": 107,
   "metadata": {},
   "outputs": [
    {
     "ename": "TypeError",
     "evalue": "'<=' not supported between instances of 'CircleDataClass' and 'CircleDataClass'",
     "output_type": "error",
     "traceback": [
      "\u001b[0;31m---------------------------------------------------------------------------\u001b[0m",
      "\u001b[0;31mTypeError\u001b[0m                                 Traceback (most recent call last)",
      "Cell \u001b[0;32mIn[107], line 1\u001b[0m\n\u001b[0;32m----> 1\u001b[0m cd1 \u001b[39m<\u001b[39;49m\u001b[39m=\u001b[39;49m cd2\n",
      "\u001b[0;31mTypeError\u001b[0m: '<=' not supported between instances of 'CircleDataClass' and 'CircleDataClass'"
     ]
    }
   ],
   "source": [
    "cd1 <= cd2"
   ]
  },
  {
   "cell_type": "code",
   "execution_count": 108,
   "metadata": {},
   "outputs": [],
   "source": [
    "from math import pi, dist\n",
    "from functools import total_ordering\n",
    "\n",
    "@dataclass(frozen=True) #order=True)\n",
    "@total_ordering\n",
    "class CircleDataClass:\n",
    "    x: int = 0\n",
    "    y: int = 0\n",
    "    radius: int = 1\n",
    "\n",
    "    @property\n",
    "    def area(self):\n",
    "        return pi * self.radius ** 2\n",
    "\n",
    "    def circunference(self):\n",
    "        return 2 * pi * self.radius\n",
    "\n",
    "    def __lt__(self, other):\n",
    "        if self.__class__ == other.__class__:\n",
    "            return dist((0, 0), (self.x, self.y)) < dist((0, 0), (other.x, other.y))\n",
    "        return NotImplemented"
   ]
  },
  {
   "cell_type": "code",
   "execution_count": 110,
   "metadata": {},
   "outputs": [
    {
     "data": {
      "text/plain": [
       "True"
      ]
     },
     "metadata": {},
     "output_type": "display_data"
    },
    {
     "data": {
      "text/plain": [
       "False"
      ]
     },
     "metadata": {},
     "output_type": "display_data"
    }
   ],
   "source": [
    "cd1 = CircleDataClass(1, 1, 2)\n",
    "cd2 = CircleDataClass(2, 2, 1)\n",
    "\n",
    "display(cd1 <= cd2)\n",
    "display(cd1 >= cd2)"
   ]
  },
  {
   "attachments": {},
   "cell_type": "markdown",
   "metadata": {},
   "source": [
    "## kwargs to the `__init__` method - key only args."
   ]
  },
  {
   "cell_type": "code",
   "execution_count": 111,
   "metadata": {},
   "outputs": [],
   "source": [
    "from functools import total_ordering\n",
    "\n",
    "# The `total_ordering` decorator from the `functools` module implements the logical comparison dunder methods for you.\n",
    "# You just need to implement one comparison dunder method and the decorator modifies your class assing the other ones.\n",
    "@total_ordering\n",
    "class Circle:\n",
    "    # the \"*\" indicates that after that the args must to be key only args, no more positional args.\n",
    "    def __init__(self, x: int = 0, y: int = 0, *, radius: int = 1):\n",
    "        self._x = x\n",
    "        self._y = y\n",
    "        self._radius = radius\n",
    "\n",
    "    # read only properties.\n",
    "    # dataclasses uses another approach to create read only variables.\n",
    "    # dataclasses overwrite the __setattr__ and __getattr__ methods.\n",
    "    @property\n",
    "    def x(self):\n",
    "        return self._x\n",
    "\n",
    "    @property\n",
    "    def y(self):\n",
    "        return self._y\n",
    "\n",
    "    @property\n",
    "    def radius(self):\n",
    "        return self._radius\n",
    "\n",
    "    def __repr__(self):\n",
    "        # use __qualname__ instead of __name__\n",
    "        ## __qualname__ return inheritance chain and __name__ only return the class name.\n",
    "        return f\"{self.__class__.__qualname__}(x={self.x}, y={self.y}, radius={self.radius})\"\n",
    "\n",
    "    def __eq__(self, other):\n",
    "        # to have the comparison functionality it necessary to implement the __eq__ method.\n",
    "        if self.__class__ == other.__class__:\n",
    "            return (self.x, self.y, self.radius) == (other.x, other.y, other.radius)\n",
    "        # best practice:\n",
    "        return NotImplemented\n",
    "\n",
    "    def __hash__(self):\n",
    "        return hash((self.x, self.y, self.radius))\n",
    "\n",
    "    # There is no need to implement both greater than and less than.\n",
    "    # With one method python understands the other.\n",
    "    def __lt__(self, other):\n",
    "        if self.__class__ == other.__class__:\n",
    "            return (self.x, self.y, self.radius) < (other.x, other.y, other.radius)\n",
    "        return NotImplemented\n",
    "\n",
    "    # add serialization as dict\n",
    "    def asdict(self):\n",
    "        return {\n",
    "            \"x\": self.x,\n",
    "            \"y\": self.y,\n",
    "            \"radius\": self.radius,\n",
    "        }\n",
    "\n",
    "    # add serialization as tuple\n",
    "    def astuple(self):\n",
    "        return self.x, self.y, self.radius"
   ]
  },
  {
   "cell_type": "code",
   "execution_count": 113,
   "metadata": {},
   "outputs": [
    {
     "ename": "TypeError",
     "evalue": "Circle.__init__() takes from 1 to 3 positional arguments but 4 were given",
     "output_type": "error",
     "traceback": [
      "\u001b[0;31m---------------------------------------------------------------------------\u001b[0m",
      "\u001b[0;31mTypeError\u001b[0m                                 Traceback (most recent call last)",
      "Cell \u001b[0;32mIn[113], line 1\u001b[0m\n\u001b[0;32m----> 1\u001b[0m c1 \u001b[39m=\u001b[39m Circle(\u001b[39m1\u001b[39;49m, \u001b[39m1\u001b[39;49m, \u001b[39m2\u001b[39;49m)\n\u001b[1;32m      2\u001b[0m c1\n",
      "\u001b[0;31mTypeError\u001b[0m: Circle.__init__() takes from 1 to 3 positional arguments but 4 were given"
     ]
    }
   ],
   "source": [
    "c1 = Circle(1, 1, 2)\n",
    "c1"
   ]
  },
  {
   "cell_type": "code",
   "execution_count": 114,
   "metadata": {},
   "outputs": [
    {
     "data": {
      "text/plain": [
       "Circle(x=1, y=1, radius=2)"
      ]
     },
     "execution_count": 114,
     "metadata": {},
     "output_type": "execute_result"
    }
   ],
   "source": [
    "c1 = Circle(1, 1, radius=2)\n",
    "c1"
   ]
  },
  {
   "attachments": {},
   "cell_type": "markdown",
   "metadata": {},
   "source": [
    "### Key-only args for `dataclasses`."
   ]
  },
  {
   "cell_type": "code",
   "execution_count": 117,
   "metadata": {},
   "outputs": [],
   "source": [
    "from math import pi, dist\n",
    "from dataclasses import KW_ONLY\n",
    "\n",
    "@dataclass(frozen=True) #order=True)\n",
    "class CircleDataClass:\n",
    "    x: int = 0\n",
    "    y: int = 0\n",
    "    # this field can have any name, it will not be used, just indicate that from here the args must be key-only, same as \"*\".\n",
    "    _: KW_ONLY # it is just a \"separator\"\n",
    "    radius: int = 1\n",
    "\n",
    "    @property\n",
    "    def area(self):\n",
    "        return pi * self.radius ** 2\n",
    "\n",
    "    def circunference(self):\n",
    "        return 2 * pi * self.radius\n",
    "\n",
    "    def __lt__(self, other):\n",
    "        if self.__class__ == other.__class__:\n",
    "            return dist((0, 0), (self.x, self.y)) < dist((0, 0), (other.x, other.y))\n",
    "        return NotImplemented"
   ]
  },
  {
   "cell_type": "code",
   "execution_count": 118,
   "metadata": {},
   "outputs": [
    {
     "ename": "TypeError",
     "evalue": "CircleDataClass.__init__() takes from 1 to 3 positional arguments but 4 were given",
     "output_type": "error",
     "traceback": [
      "\u001b[0;31m---------------------------------------------------------------------------\u001b[0m",
      "\u001b[0;31mTypeError\u001b[0m                                 Traceback (most recent call last)",
      "Cell \u001b[0;32mIn[118], line 1\u001b[0m\n\u001b[0;32m----> 1\u001b[0m cd1 \u001b[39m=\u001b[39m CircleDataClass(\u001b[39m1\u001b[39;49m, \u001b[39m1\u001b[39;49m, \u001b[39m2\u001b[39;49m)\n\u001b[1;32m      2\u001b[0m cd1\n",
      "\u001b[0;31mTypeError\u001b[0m: CircleDataClass.__init__() takes from 1 to 3 positional arguments but 4 were given"
     ]
    }
   ],
   "source": [
    "cd1 = CircleDataClass(1, 1, 2)\n",
    "cd1"
   ]
  },
  {
   "cell_type": "code",
   "execution_count": 119,
   "metadata": {},
   "outputs": [
    {
     "data": {
      "text/plain": [
       "CircleDataClass(x=1, y=1, radius=2)"
      ]
     },
     "execution_count": 119,
     "metadata": {},
     "output_type": "execute_result"
    }
   ],
   "source": [
    "cd1 = CircleDataClass(1, 1, radius=2)\n",
    "cd1"
   ]
  },
  {
   "attachments": {},
   "cell_type": "markdown",
   "metadata": {},
   "source": [
    "### Every parameter as key-only.\n",
    "\n",
    "- Use `@dataclass(kw_only=True)`"
   ]
  },
  {
   "cell_type": "code",
   "execution_count": 121,
   "metadata": {},
   "outputs": [],
   "source": [
    "from math import pi, dist\n",
    "\n",
    "@dataclass(frozen=True, order=True, kw_only=True)\n",
    "class CircleDataClass:\n",
    "    x: int = 0\n",
    "    y: int = 0\n",
    "    radius: int = 1\n",
    "\n",
    "    @property\n",
    "    def area(self):\n",
    "        return pi * self.radius ** 2\n",
    "\n",
    "    def circunference(self):\n",
    "        return 2 * pi * self.radius"
   ]
  },
  {
   "cell_type": "code",
   "execution_count": 122,
   "metadata": {},
   "outputs": [
    {
     "ename": "TypeError",
     "evalue": "CircleDataClass.__init__() takes 1 positional argument but 4 were given",
     "output_type": "error",
     "traceback": [
      "\u001b[0;31m---------------------------------------------------------------------------\u001b[0m",
      "\u001b[0;31mTypeError\u001b[0m                                 Traceback (most recent call last)",
      "Cell \u001b[0;32mIn[122], line 1\u001b[0m\n\u001b[0;32m----> 1\u001b[0m cd1 \u001b[39m=\u001b[39m CircleDataClass(\u001b[39m1\u001b[39;49m, \u001b[39m1\u001b[39;49m, \u001b[39m1\u001b[39;49m)\n\u001b[1;32m      2\u001b[0m cd1\n",
      "\u001b[0;31mTypeError\u001b[0m: CircleDataClass.__init__() takes 1 positional argument but 4 were given"
     ]
    }
   ],
   "source": [
    "cd1 = CircleDataClass(1, 1, 1)\n",
    "cd1"
   ]
  },
  {
   "cell_type": "code",
   "execution_count": 123,
   "metadata": {},
   "outputs": [
    {
     "data": {
      "text/plain": [
       "CircleDataClass(x=1, y=1, radius=1)"
      ]
     },
     "execution_count": 123,
     "metadata": {},
     "output_type": "execute_result"
    }
   ],
   "source": [
    "cd1 = CircleDataClass(radius=1, y=1, x=1)\n",
    "cd1"
   ]
  },
  {
   "attachments": {},
   "cell_type": "markdown",
   "metadata": {},
   "source": [
    "## Resource utilization and performance - `dataclasses` X `NamedTuple`.\n",
    "\n",
    "- Regarding to size, `dataclasses` and `NamedTuple` has the same performance.\n",
    "- Regarding to creation time, `dataclasses` with slots and not frozen has better performance than `NamedTuple`, but if it is frozen this changes.\n",
    "- Regarding to speed on reading attributes, `dataclasses` always performs better than `NamedTuples`."
   ]
  },
  {
   "cell_type": "code",
   "execution_count": 125,
   "metadata": {},
   "outputs": [],
   "source": [
    "answer = {\n",
    "    \"answer\": \"test\"\n",
    "}"
   ]
  },
  {
   "cell_type": "code",
   "execution_count": 126,
   "metadata": {},
   "outputs": [
    {
     "data": {
      "text/plain": [
       "'test'"
      ]
     },
     "execution_count": 126,
     "metadata": {},
     "output_type": "execute_result"
    }
   ],
   "source": [
    "answer[\"answer\"]"
   ]
  },
  {
   "attachments": {},
   "cell_type": "markdown",
   "metadata": {},
   "source": [
    "## Post-init special method\n",
    "\n",
    "- The `__post_init__` method is used to augmnt the normal init method that is automatically generated by the `@dataclass` decorator.\n",
    "- Used to perform custom inicialization for your `@dataclass` and runs after the original initialization.\n",
    "- Allows us to extennd the `__init__` method without the need to modify the method itself.\n",
    "- It is an `INSTANCE` method and for that it has access to instance data."
   ]
  },
  {
   "cell_type": "code",
   "execution_count": 128,
   "metadata": {},
   "outputs": [],
   "source": [
    "@dataclass\n",
    "class CircleDataClass:\n",
    "    x: int = 0\n",
    "    y: int = 0\n",
    "    radius: int = 1\n",
    "\n",
    "    def __post_init__(self):\n",
    "        print(\"__post_init__ called\")\n",
    "        print(repr(self))"
   ]
  },
  {
   "cell_type": "code",
   "execution_count": 130,
   "metadata": {},
   "outputs": [
    {
     "name": "stdout",
     "output_type": "stream",
     "text": [
      "__post_init__ called\n",
      "CircleDataClass(x=0, y=0, radius=1)\n"
     ]
    }
   ],
   "source": [
    "cd1 = CircleDataClass()"
   ]
  },
  {
   "attachments": {},
   "cell_type": "markdown",
   "metadata": {},
   "source": [
    "### Init only variables\n",
    "\n",
    "- Variable that are passed to `__init__`. They appears as parameter as the other variables before the `__post_init__`.\n",
    "- They are `NOT STORED` in the isntance `dict` or `slots`.\n",
    "- It's going to be a field defined in the `@dataclass` it's not going to end up being a field in the `final resulting class`. It's only going to be something that is passed to the `__init__` and `__post_init__` methods.\n",
    "- To have a `INIT ONLY` variable it is used the generic type `dataclasses.InitVar`."
   ]
  },
  {
   "cell_type": "code",
   "execution_count": 134,
   "metadata": {},
   "outputs": [],
   "source": [
    "@dataclass\n",
    "class CircleDataClass:\n",
    "    x: int = 0\n",
    "    y: int = 0\n",
    "    radius: int = 1\n",
    "    translate_x: int = 0 # regular field \n",
    "    translate_y: int = 0 # regular field"
   ]
  },
  {
   "cell_type": "code",
   "execution_count": 133,
   "metadata": {},
   "outputs": [
    {
     "data": {
      "text/plain": [
       "(Field(name='x',type=<class 'int'>,default=0,default_factory=<dataclasses._MISSING_TYPE object at 0x10f4e9ab0>,init=True,repr=True,hash=None,compare=True,metadata=mappingproxy({}),kw_only=False,_field_type=_FIELD),\n",
       " Field(name='y',type=<class 'int'>,default=0,default_factory=<dataclasses._MISSING_TYPE object at 0x10f4e9ab0>,init=True,repr=True,hash=None,compare=True,metadata=mappingproxy({}),kw_only=False,_field_type=_FIELD),\n",
       " Field(name='radius',type=<class 'int'>,default=1,default_factory=<dataclasses._MISSING_TYPE object at 0x10f4e9ab0>,init=True,repr=True,hash=None,compare=True,metadata=mappingproxy({}),kw_only=False,_field_type=_FIELD),\n",
       " Field(name='translate_x',type=<class 'int'>,default=0,default_factory=<dataclasses._MISSING_TYPE object at 0x10f4e9ab0>,init=True,repr=True,hash=None,compare=True,metadata=mappingproxy({}),kw_only=False,_field_type=_FIELD),\n",
       " Field(name='translate_y',type=<class 'int'>,default=0,default_factory=<dataclasses._MISSING_TYPE object at 0x10f4e9ab0>,init=True,repr=True,hash=None,compare=True,metadata=mappingproxy({}),kw_only=False,_field_type=_FIELD))"
      ]
     },
     "execution_count": 133,
     "metadata": {},
     "output_type": "execute_result"
    }
   ],
   "source": [
    "from dataclasses import fields\n",
    "\n",
    "# displaying regular fields\n",
    "fields(CircleDataClass)"
   ]
  },
  {
   "cell_type": "code",
   "execution_count": 135,
   "metadata": {},
   "outputs": [],
   "source": [
    "from dataclasses import InitVar\n",
    "\n",
    "@dataclass\n",
    "class CircleDataClass:\n",
    "    x: int = 0\n",
    "    y: int = 0\n",
    "    radius: int = 1\n",
    "    translate_x: InitVar[int] = 0 # init only field \n",
    "    translate_y: InitVar[int] = 0 # init only field\n",
    "\n",
    "    def __post_init__(self, translate_x, translate_y): # args must be in the same order as it is defined.\n",
    "        print(f\"Translating center by: \\u0394x={translate_x}, \\u0394y={translate_y}\")\n",
    "        self.x += translate_x # overwrite the variables \n",
    "        self.y += translate_y # overwrite the variables\n"
   ]
  },
  {
   "cell_type": "code",
   "execution_count": 136,
   "metadata": {},
   "outputs": [
    {
     "name": "stdout",
     "output_type": "stream",
     "text": [
      "Translating center by: Δx=-1, Δy=-2\n"
     ]
    },
    {
     "data": {
      "text/plain": [
       "CircleDataClass(x=-1, y=-2, radius=1)"
      ]
     },
     "execution_count": 136,
     "metadata": {},
     "output_type": "execute_result"
    }
   ],
   "source": [
    "cd1 = CircleDataClass(0, 0, 1, -1, -2)\n",
    "cd1"
   ]
  },
  {
   "cell_type": "code",
   "execution_count": 137,
   "metadata": {},
   "outputs": [
    {
     "data": {
      "text/plain": [
       "(Field(name='x',type=<class 'int'>,default=0,default_factory=<dataclasses._MISSING_TYPE object at 0x10f4e9ab0>,init=True,repr=True,hash=None,compare=True,metadata=mappingproxy({}),kw_only=False,_field_type=_FIELD),\n",
       " Field(name='y',type=<class 'int'>,default=0,default_factory=<dataclasses._MISSING_TYPE object at 0x10f4e9ab0>,init=True,repr=True,hash=None,compare=True,metadata=mappingproxy({}),kw_only=False,_field_type=_FIELD),\n",
       " Field(name='radius',type=<class 'int'>,default=1,default_factory=<dataclasses._MISSING_TYPE object at 0x10f4e9ab0>,init=True,repr=True,hash=None,compare=True,metadata=mappingproxy({}),kw_only=False,_field_type=_FIELD))"
      ]
     },
     "execution_count": 137,
     "metadata": {},
     "output_type": "execute_result"
    }
   ],
   "source": [
    "fields(CircleDataClass)"
   ]
  },
  {
   "cell_type": "code",
   "execution_count": 139,
   "metadata": {},
   "outputs": [],
   "source": [
    "# making post_init variables keyword only\n",
    "\n",
    "from dataclasses import InitVar, KW_ONLY\n",
    "\n",
    "@dataclass\n",
    "class CircleDataClass:\n",
    "    x: int = 0\n",
    "    y: int = 0\n",
    "    radius: int = 1\n",
    "    _: KW_ONLY\n",
    "    translate_x: InitVar[int] = 0 # init only field \n",
    "    translate_y: InitVar[int] = 0 # init only field\n",
    "\n",
    "    def __post_init__(self, translate_x, translate_y): # args must be in the same order as it is defined.\n",
    "        print(f\"Translating center by: \\u0394x={translate_x}, \\u0394y={translate_y}\")\n",
    "        self.x += translate_x # overwrite the variables \n",
    "        self.y += translate_y # overwrite the variables"
   ]
  },
  {
   "cell_type": "code",
   "execution_count": 140,
   "metadata": {},
   "outputs": [
    {
     "ename": "TypeError",
     "evalue": "CircleDataClass.__init__() takes from 1 to 4 positional arguments but 6 were given",
     "output_type": "error",
     "traceback": [
      "\u001b[0;31m---------------------------------------------------------------------------\u001b[0m",
      "\u001b[0;31mTypeError\u001b[0m                                 Traceback (most recent call last)",
      "Cell \u001b[0;32mIn[140], line 1\u001b[0m\n\u001b[0;32m----> 1\u001b[0m cd1 \u001b[39m=\u001b[39m CircleDataClass(\u001b[39m0\u001b[39;49m, \u001b[39m0\u001b[39;49m, \u001b[39m1\u001b[39;49m, \u001b[39m-\u001b[39;49m\u001b[39m1\u001b[39;49m, \u001b[39m-\u001b[39;49m\u001b[39m2\u001b[39;49m)\n\u001b[1;32m      2\u001b[0m cd1\n",
      "\u001b[0;31mTypeError\u001b[0m: CircleDataClass.__init__() takes from 1 to 4 positional arguments but 6 were given"
     ]
    }
   ],
   "source": [
    "cd1 = CircleDataClass(0, 0, 1, -1, -2)\n",
    "cd1"
   ]
  },
  {
   "cell_type": "code",
   "execution_count": 141,
   "metadata": {},
   "outputs": [
    {
     "name": "stdout",
     "output_type": "stream",
     "text": [
      "Translating center by: Δx=-1, Δy=-2\n"
     ]
    },
    {
     "data": {
      "text/plain": [
       "CircleDataClass(x=-1, y=-2, radius=1)"
      ]
     },
     "execution_count": 141,
     "metadata": {},
     "output_type": "execute_result"
    }
   ],
   "source": [
    "cd1 = CircleDataClass(0, 0, 1, translate_x=-1, translate_y=-2)\n",
    "cd1"
   ]
  },
  {
   "cell_type": "code",
   "execution_count": 142,
   "metadata": {},
   "outputs": [
    {
     "data": {
      "text/plain": [
       "{'x': -1, 'y': -2, 'radius': 1}"
      ]
     },
     "execution_count": 142,
     "metadata": {},
     "output_type": "execute_result"
    }
   ],
   "source": [
    "cd1.__dict__"
   ]
  },
  {
   "attachments": {},
   "cell_type": "markdown",
   "metadata": {},
   "source": [
    "## Field levels customization\n",
    "\n",
    "- Define defaults as instances of the `dataclasses.Field` class.\n",
    "- We should `NEVER` instantiate `dataclasses.Field` directly. It is necessary to use the `dataclasses.field` function.\n",
    "- `type(field())` == `dataclasses.Field`."
   ]
  },
  {
   "cell_type": "markdown",
   "metadata": {},
   "source": []
  },
  {
   "cell_type": "code",
   "execution_count": 143,
   "metadata": {},
   "outputs": [],
   "source": [
    "from dataclasses import InitVar, KW_ONLY, Field, field\n",
    "\n",
    "@dataclass\n",
    "class CircleDataClass:\n",
    "    x: int = 0\n",
    "    y: int = 0\n",
    "    radius: int = 1\n",
    "    _: KW_ONLY\n",
    "    translate_x: InitVar[int] = 0 # init only field \n",
    "    translate_y: InitVar[int] = 0 # init only field\n",
    "\n",
    "    def __post_init__(self, translate_x, translate_y): # args must be in the same order as it is defined.\n",
    "        print(f\"Translating center by: \\u0394x={translate_x}, \\u0394y={translate_y}\")\n",
    "        self.x += translate_x # overwrite the variables \n",
    "        self.y += translate_y # overwrite the variables"
   ]
  },
  {
   "attachments": {},
   "cell_type": "markdown",
   "metadata": {},
   "source": [
    "### Customization with `dataclasses.field`"
   ]
  },
  {
   "cell_type": "code",
   "execution_count": 144,
   "metadata": {},
   "outputs": [],
   "source": [
    "from dataclasses import field\n",
    "\n",
    "@dataclass\n",
    "class CircleDataClass:\n",
    "    x: int = 0\n",
    "    y: int = 0\n",
    "    radius: int = 1"
   ]
  },
  {
   "cell_type": "code",
   "execution_count": 145,
   "metadata": {},
   "outputs": [
    {
     "data": {
      "text/plain": [
       "CircleDataClass(x=0, y=0, radius=1)"
      ]
     },
     "execution_count": 145,
     "metadata": {},
     "output_type": "execute_result"
    }
   ],
   "source": [
    "dc = CircleDataClass()\n",
    "dc"
   ]
  },
  {
   "cell_type": "code",
   "execution_count": 146,
   "metadata": {},
   "outputs": [],
   "source": [
    "from dataclasses import field\n",
    "\n",
    "@dataclass\n",
    "class CircleDataClass:\n",
    "    x: int = 0\n",
    "    y: int = 0\n",
    "    radius: int = 1\n",
    "\n",
    "    # overwrite __repr__ - normal way.\n",
    "    def __repr__(self):\n",
    "        return f\"{self.__class__.__qualname__}(radius={self.radius})\""
   ]
  },
  {
   "cell_type": "code",
   "execution_count": 147,
   "metadata": {},
   "outputs": [
    {
     "data": {
      "text/plain": [
       "CircleDataClass(radius=1)"
      ]
     },
     "execution_count": 147,
     "metadata": {},
     "output_type": "execute_result"
    }
   ],
   "source": [
    "dc = CircleDataClass()\n",
    "dc"
   ]
  },
  {
   "cell_type": "code",
   "execution_count": 148,
   "metadata": {},
   "outputs": [],
   "source": [
    "from dataclasses import field\n",
    "\n",
    "@dataclass\n",
    "class CircleDataClass:\n",
    "    # Excludind fields from __repr__\n",
    "    # now there is no more default values for X and Y\n",
    "    x: int = field(repr=False)\n",
    "    y: int = field(repr=False)\n",
    "    radius: int = 1"
   ]
  },
  {
   "cell_type": "code",
   "execution_count": 150,
   "metadata": {},
   "outputs": [
    {
     "data": {
      "text/plain": [
       "CircleDataClass(radius=1)"
      ]
     },
     "execution_count": 150,
     "metadata": {},
     "output_type": "execute_result"
    }
   ],
   "source": [
    "dc = CircleDataClass(0, 0, 1)\n",
    "dc"
   ]
  },
  {
   "cell_type": "code",
   "execution_count": 151,
   "metadata": {},
   "outputs": [],
   "source": [
    "from dataclasses import field\n",
    "\n",
    "@dataclass\n",
    "class CircleDataClass:\n",
    "    # Excludind fields from __repr__\n",
    "    # now there is no more default values for X and Y\n",
    "    # it is possible to set the default values again with 'default'.\n",
    "    x: int = field(default=0, repr=False)\n",
    "    y: int = field(default=0, repr=False)\n",
    "    radius: int = 1"
   ]
  },
  {
   "cell_type": "code",
   "execution_count": 153,
   "metadata": {},
   "outputs": [
    {
     "data": {
      "text/plain": [
       "(0, 0)"
      ]
     },
     "execution_count": 153,
     "metadata": {},
     "output_type": "execute_result"
    }
   ],
   "source": [
    "cd = CircleDataClass()\n",
    "cd.x, cd.y"
   ]
  },
  {
   "attachments": {},
   "cell_type": "markdown",
   "metadata": {},
   "source": [
    "### Define fields now passing them to `__init__`.\n",
    "\n",
    "- Good for calculated fields"
   ]
  },
  {
   "cell_type": "code",
   "execution_count": 154,
   "metadata": {},
   "outputs": [],
   "source": [
    "from dataclasses import field\n",
    "from math import pi\n",
    "\n",
    "@dataclass\n",
    "class CircleDataClass:\n",
    "    x: int = 0\n",
    "    y: int = 0\n",
    "    radius: int = 1\n",
    "\n",
    "    def __post_init__(self):\n",
    "        # the dataclass cannot be frozen for it to work\n",
    "        self._area = pi * self.radius ** 2\n",
    "\n",
    "    @property\n",
    "    def area(self):\n",
    "        return self._area"
   ]
  },
  {
   "cell_type": "code",
   "execution_count": 155,
   "metadata": {},
   "outputs": [
    {
     "data": {
      "text/plain": [
       "(CircleDataClass(x=0, y=0, radius=1), 3.141592653589793)"
      ]
     },
     "execution_count": 155,
     "metadata": {},
     "output_type": "execute_result"
    }
   ],
   "source": [
    "dc = CircleDataClass()\n",
    "dc, dc.area"
   ]
  },
  {
   "cell_type": "code",
   "execution_count": 157,
   "metadata": {},
   "outputs": [
    {
     "data": {
      "text/plain": [
       "(Field(name='x',type=<class 'int'>,default=0,default_factory=<dataclasses._MISSING_TYPE object at 0x10f4e9ab0>,init=True,repr=True,hash=None,compare=True,metadata=mappingproxy({}),kw_only=False,_field_type=_FIELD),\n",
       " Field(name='y',type=<class 'int'>,default=0,default_factory=<dataclasses._MISSING_TYPE object at 0x10f4e9ab0>,init=True,repr=True,hash=None,compare=True,metadata=mappingproxy({}),kw_only=False,_field_type=_FIELD),\n",
       " Field(name='radius',type=<class 'int'>,default=1,default_factory=<dataclasses._MISSING_TYPE object at 0x10f4e9ab0>,init=True,repr=True,hash=None,compare=True,metadata=mappingproxy({}),kw_only=False,_field_type=_FIELD))"
      ]
     },
     "metadata": {},
     "output_type": "display_data"
    },
    {
     "data": {
      "text/plain": [
       "{'x': 0, 'y': 0, 'radius': 1, '_area': 3.141592653589793}"
      ]
     },
     "metadata": {},
     "output_type": "display_data"
    }
   ],
   "source": [
    "# now the area field does not appears in the class variables\n",
    "# and the '_area' apears.\n",
    "display(fields(dc))\n",
    "display(dc.__dict__)"
   ]
  },
  {
   "cell_type": "code",
   "execution_count": 158,
   "metadata": {},
   "outputs": [],
   "source": [
    "# to solve all this problems it is necessary to have a field in the class that is\n",
    "# NOT EXPECTED as an agument in the __init__\n",
    "# In this case you are still not able to have a frozen class.\n",
    "\n",
    "from dataclasses import field\n",
    "from math import pi\n",
    "\n",
    "@dataclass\n",
    "class CircleDataClass:\n",
    "    x: int = 0\n",
    "    y: int = 0\n",
    "    radius: int = 1\n",
    "    # a field that is not passed to init.\n",
    "    area: float = field(init=False, repr=False)\n",
    "\n",
    "    def __post_init__(self):\n",
    "        self.area = pi * self.radius ** 2"
   ]
  },
  {
   "cell_type": "code",
   "execution_count": 159,
   "metadata": {},
   "outputs": [
    {
     "data": {
      "text/plain": [
       "(Field(name='x',type=<class 'int'>,default=0,default_factory=<dataclasses._MISSING_TYPE object at 0x10f4e9ab0>,init=True,repr=True,hash=None,compare=True,metadata=mappingproxy({}),kw_only=False,_field_type=_FIELD),\n",
       " Field(name='y',type=<class 'int'>,default=0,default_factory=<dataclasses._MISSING_TYPE object at 0x10f4e9ab0>,init=True,repr=True,hash=None,compare=True,metadata=mappingproxy({}),kw_only=False,_field_type=_FIELD),\n",
       " Field(name='radius',type=<class 'int'>,default=1,default_factory=<dataclasses._MISSING_TYPE object at 0x10f4e9ab0>,init=True,repr=True,hash=None,compare=True,metadata=mappingproxy({}),kw_only=False,_field_type=_FIELD),\n",
       " Field(name='area',type=<class 'float'>,default=<dataclasses._MISSING_TYPE object at 0x10f4e9ab0>,default_factory=<dataclasses._MISSING_TYPE object at 0x10f4e9ab0>,init=False,repr=False,hash=None,compare=True,metadata=mappingproxy({}),kw_only=False,_field_type=_FIELD))"
      ]
     },
     "metadata": {},
     "output_type": "display_data"
    },
    {
     "data": {
      "text/plain": [
       "{'x': 0, 'y': 0, 'radius': 1, 'area': 3.141592653589793}"
      ]
     },
     "metadata": {},
     "output_type": "display_data"
    },
    {
     "data": {
      "text/plain": [
       "3.141592653589793"
      ]
     },
     "metadata": {},
     "output_type": "display_data"
    }
   ],
   "source": [
    "cd = CircleDataClass()\n",
    "display(fields(cd))\n",
    "display(cd.__dict__)\n",
    "display(cd.area)"
   ]
  },
  {
   "attachments": {},
   "cell_type": "markdown",
   "metadata": {},
   "source": [
    "### Having a `frozen` class with mutable fields."
   ]
  },
  {
   "cell_type": "code",
   "execution_count": 160,
   "metadata": {},
   "outputs": [],
   "source": [
    "from dataclasses import field\n",
    "from math import pi\n",
    "\n",
    "@dataclass(frozen=True)\n",
    "class CircleDataClass:\n",
    "    x: int = 0\n",
    "    y: int = 0\n",
    "    radius: int = 1\n",
    "    # a field that is not passed to init.\n",
    "    area: float = field(init=False, repr=False)\n",
    "\n",
    "    def __post_init__(self):\n",
    "        # self.__setattr__(\"area\", pi * self.radius ** 2) # same as below.\n",
    "        # self.area = pi * self.radius ** 2\n",
    "\n",
    "        ## to solve this problem it is necessary to write the variable overwriting the __setattr__ method from the super() class\n",
    "        super().__setattr__(\"area\", pi * self.radius ** 2) # same as below."
   ]
  },
  {
   "cell_type": "code",
   "execution_count": 161,
   "metadata": {},
   "outputs": [
    {
     "data": {
      "text/plain": [
       "CircleDataClass(x=0, y=0, radius=1)"
      ]
     },
     "execution_count": 161,
     "metadata": {},
     "output_type": "execute_result"
    }
   ],
   "source": [
    "cd = CircleDataClass()\n",
    "cd"
   ]
  },
  {
   "attachments": {},
   "cell_type": "markdown",
   "metadata": {},
   "source": [
    "## Customazing comparison fields\n",
    "- Equality of two instances of a `dataclass` is based on the equality of the tuples containing the variables values of each instance."
   ]
  },
  {
   "cell_type": "code",
   "execution_count": 164,
   "metadata": {},
   "outputs": [],
   "source": [
    "from dataclasses import field\n",
    "\n",
    "@dataclass(order=True)\n",
    "class CircleDataClass:\n",
    "    x: int = 0\n",
    "    y: int = 0\n",
    "    radius: int = 1"
   ]
  },
  {
   "cell_type": "code",
   "execution_count": 166,
   "metadata": {},
   "outputs": [
    {
     "data": {
      "text/plain": [
       "True"
      ]
     },
     "metadata": {},
     "output_type": "display_data"
    },
    {
     "data": {
      "text/plain": [
       "False"
      ]
     },
     "metadata": {},
     "output_type": "display_data"
    }
   ],
   "source": [
    "cd = CircleDataClass(1, 1, 1)\n",
    "cd2 = CircleDataClass(1, 1, 1)\n",
    "\n",
    "display(cd == cd2)\n",
    "display(cd < cd2)"
   ]
  },
  {
   "cell_type": "code",
   "execution_count": 167,
   "metadata": {},
   "outputs": [],
   "source": [
    "# order to be based in just one field\n",
    "# it also changes the way that comparison works\n",
    "\n",
    "from dataclasses import field\n",
    "\n",
    "@dataclass(order=True)\n",
    "class CircleDataClass:\n",
    "    x: int = field(default=0, compare=False)\n",
    "    y: int = field(default=0, compare=False)\n",
    "    radius: int = 1"
   ]
  },
  {
   "cell_type": "code",
   "execution_count": 168,
   "metadata": {},
   "outputs": [
    {
     "data": {
      "text/plain": [
       "False"
      ]
     },
     "metadata": {},
     "output_type": "display_data"
    },
    {
     "data": {
      "text/plain": [
       "True"
      ]
     },
     "metadata": {},
     "output_type": "display_data"
    }
   ],
   "source": [
    "cd = CircleDataClass(1, 1, 1)\n",
    "cd2 = CircleDataClass(1, 1, 2)\n",
    "\n",
    "display(cd == cd2)\n",
    "display(cd < cd2)"
   ]
  },
  {
   "cell_type": "code",
   "execution_count": 169,
   "metadata": {},
   "outputs": [
    {
     "data": {
      "text/plain": [
       "True"
      ]
     },
     "metadata": {},
     "output_type": "display_data"
    },
    {
     "data": {
      "text/plain": [
       "False"
      ]
     },
     "metadata": {},
     "output_type": "display_data"
    }
   ],
   "source": [
    "cd = CircleDataClass(1, 1, 1)\n",
    "cd2 = CircleDataClass(1, 0, 1)\n",
    "\n",
    "display(cd == cd2)\n",
    "display(cd < cd2)"
   ]
  },
  {
   "cell_type": "code",
   "execution_count": null,
   "metadata": {},
   "outputs": [],
   "source": [
    "# there are situations where you want to have comparison and equality based on different logics\n",
    "\n",
    "from dataclasses import field\n",
    "\n",
    "@dataclass(order=True)\n",
    "class CircleDataClass:\n",
    "    x: int = field(default=0, compare=False)\n",
    "    y: int = field(default=0, compare=False)\n",
    "    radius: int = 1"
   ]
  },
  {
   "attachments": {},
   "cell_type": "markdown",
   "metadata": {},
   "source": [
    "## Hashing\n",
    "- to create a hash the isntance of the class should be immutable.\n",
    "- It does not means that the entire class should be immutable.\n",
    "- Rules:\n",
    "    - The instance data used to generate a hash for the instance should be immutable.\n",
    "    - The same data used to generate a hash should be part of the equality implementation.\n",
    "    - Two instances that compare equal should have the same hash."
   ]
  },
  {
   "cell_type": "code",
   "execution_count": 170,
   "metadata": {},
   "outputs": [],
   "source": [
    "class Person:\n",
    "    def __init__(self, name, age, ssn): \n",
    "        self.name: str = name # this changes over time\n",
    "        self.age: int = age # this changes over time\n",
    "        # ssn is mutable at this point.\n",
    "        self.ssn: str = ssn # ssn - social security number - unique id.\n",
    "\n",
    "    def __eq__(self, other):\n",
    "        if self.__class__ == other.__class__:\n",
    "            return self.ssn == other.ssn\n",
    "        return NotImplemented\n",
    "\n",
    "    def __hash__(self):\n",
    "        return hash(self.ssn)"
   ]
  },
  {
   "cell_type": "code",
   "execution_count": 171,
   "metadata": {},
   "outputs": [],
   "source": [
    "class Person:\n",
    "    def __init__(self, name, age, ssn): \n",
    "        self.name: str = name # this changes over time\n",
    "        self.age: int = age # this changes over time\n",
    "        self._ssn: str = ssn # ssn - social security number - unique id.\n",
    "\n",
    "    def __eq__(self, other):\n",
    "        if self.__class__ == other.__class__:\n",
    "            return self.ssn == other.ssn\n",
    "        return NotImplemented\n",
    "\n",
    "    def __hash__(self):\n",
    "        return hash(self.ssn)\n",
    "\n",
    "    @property # read only property - make the ssn immutable\n",
    "    def ssn(self):\n",
    "        return self._ssn\n",
    "\n",
    "    def __repr__(self):\n",
    "        return f\"{self.__class__.__qualname__}(name={self.name}, age={self.age}, ssn={self.ssn}, id = {hex(id(self))})\""
   ]
  },
  {
   "cell_type": "code",
   "execution_count": 179,
   "metadata": {},
   "outputs": [],
   "source": [
    "p1 = Person(\"A\", 30, 123)\n",
    "p2 = Person(\"B\", 40, 321)\n",
    "p3 = Person(\"C\", 50, 123)"
   ]
  },
  {
   "cell_type": "code",
   "execution_count": 180,
   "metadata": {},
   "outputs": [
    {
     "data": {
      "text/plain": [
       "(False, True)"
      ]
     },
     "execution_count": 180,
     "metadata": {},
     "output_type": "execute_result"
    }
   ],
   "source": [
    "p1 == p2, p1 == p3"
   ]
  },
  {
   "cell_type": "code",
   "execution_count": 181,
   "metadata": {},
   "outputs": [
    {
     "data": {
      "text/plain": [
       "(123, 321, 123)"
      ]
     },
     "execution_count": 181,
     "metadata": {},
     "output_type": "execute_result"
    }
   ],
   "source": [
    "hash(p1), hash(p2), hash(p3)"
   ]
  },
  {
   "cell_type": "code",
   "execution_count": 182,
   "metadata": {},
   "outputs": [
    {
     "data": {
      "text/plain": [
       "{Person(name=A, age=30, ssn=123, id = 0x114236560),\n",
       " Person(name=B, age=40, ssn=321, id = 0x1142366e0)}"
      ]
     },
     "execution_count": 182,
     "metadata": {},
     "output_type": "execute_result"
    }
   ],
   "source": [
    "#set\n",
    "{p1, p2, p3}"
   ]
  },
  {
   "cell_type": "code",
   "execution_count": 183,
   "metadata": {},
   "outputs": [
    {
     "data": {
      "text/plain": [
       "{Person(name=A, age=30, ssn=123, id = 0x114236560): 'Person 1',\n",
       " Person(name=B, age=40, ssn=321, id = 0x1142366e0): 'Person 2'}"
      ]
     },
     "execution_count": 183,
     "metadata": {},
     "output_type": "execute_result"
    }
   ],
   "source": [
    "dct = {\n",
    "    p1: \"Person 1\",\n",
    "    p2: \"Person 2\",\n",
    "}\n",
    "dct"
   ]
  },
  {
   "cell_type": "code",
   "execution_count": 184,
   "metadata": {},
   "outputs": [
    {
     "data": {
      "text/plain": [
       "{Person(name=X, age=30, ssn=123, id = 0x114236560): 'Person 1',\n",
       " Person(name=B, age=100, ssn=321, id = 0x1142366e0): 'Person 2'}"
      ]
     },
     "execution_count": 184,
     "metadata": {},
     "output_type": "execute_result"
    }
   ],
   "source": [
    "p1.name = \"X\"\n",
    "p2.age = 100\n",
    "\n",
    "dct"
   ]
  },
  {
   "cell_type": "code",
   "execution_count": 185,
   "metadata": {},
   "outputs": [
    {
     "ename": "AttributeError",
     "evalue": "can't set attribute 'ssn'",
     "output_type": "error",
     "traceback": [
      "\u001b[0;31m---------------------------------------------------------------------------\u001b[0m",
      "\u001b[0;31mAttributeError\u001b[0m                            Traceback (most recent call last)",
      "Cell \u001b[0;32mIn[185], line 1\u001b[0m\n\u001b[0;32m----> 1\u001b[0m p1\u001b[39m.\u001b[39;49mssn \u001b[39m=\u001b[39m \u001b[39m987\u001b[39m\n",
      "\u001b[0;31mAttributeError\u001b[0m: can't set attribute 'ssn'"
     ]
    }
   ],
   "source": [
    "p1.ssn = 987"
   ]
  },
  {
   "attachments": {},
   "cell_type": "markdown",
   "metadata": {},
   "source": [
    "### Hashing in dataclasses\n",
    "\n",
    "- `dataclass` implements hash automatically if the `dataclass` is `IMMUTABLE`."
   ]
  },
  {
   "cell_type": "code",
   "execution_count": 187,
   "metadata": {},
   "outputs": [],
   "source": [
    "from dataclasses import dataclass\n",
    "\n",
    "@dataclass(frozen=True) # the entire dataclass is immutable\n",
    "class PersonDC:\n",
    "    name: str\n",
    "    age: int\n",
    "    ssn: str"
   ]
  },
  {
   "cell_type": "code",
   "execution_count": 190,
   "metadata": {},
   "outputs": [],
   "source": [
    "pDC1 = PersonDC(\"A\", 30, 123)\n",
    "pDC2 = PersonDC(\"A\", 30, 123)\n",
    "pDC3 = PersonDC(\"C\", 50, 123)"
   ]
  },
  {
   "cell_type": "code",
   "execution_count": 191,
   "metadata": {},
   "outputs": [
    {
     "data": {
      "text/plain": [
       "{PersonDC(name='A', age=30, ssn=123), PersonDC(name='C', age=50, ssn=123)}"
      ]
     },
     "execution_count": 191,
     "metadata": {},
     "output_type": "execute_result"
    }
   ],
   "source": [
    "# dataclass considers every field to equality\n",
    "{pDC1, pDC2, pDC3}"
   ]
  },
  {
   "cell_type": "code",
   "execution_count": 193,
   "metadata": {},
   "outputs": [
    {
     "data": {
      "text/plain": [
       "(True, False)"
      ]
     },
     "execution_count": 193,
     "metadata": {},
     "output_type": "execute_result"
    }
   ],
   "source": [
    "pDC1 == pDC2, pDC1 == pDC3"
   ]
  },
  {
   "cell_type": "code",
   "execution_count": 199,
   "metadata": {},
   "outputs": [],
   "source": [
    "from dataclasses import dataclass, field\n",
    "\n",
    "@dataclass(frozen=True)\n",
    "class PersonDC:\n",
    "    name: str = field(compare=False) # still immutable\n",
    "    age: int = field(compare=False) # still immutable\n",
    "    ssn: str"
   ]
  },
  {
   "cell_type": "code",
   "execution_count": 195,
   "metadata": {},
   "outputs": [],
   "source": [
    "pDC1 = PersonDC(\"A\", 30, 123)\n",
    "pDC2 = PersonDC(\"B\", 40, 321)\n",
    "pDC3 = PersonDC(\"C\", 50, 123)"
   ]
  },
  {
   "cell_type": "code",
   "execution_count": 196,
   "metadata": {},
   "outputs": [
    {
     "data": {
      "text/plain": [
       "(False, True)"
      ]
     },
     "execution_count": 196,
     "metadata": {},
     "output_type": "execute_result"
    }
   ],
   "source": [
    "pDC1 == pDC2, pDC1 == pDC3"
   ]
  },
  {
   "cell_type": "code",
   "execution_count": 197,
   "metadata": {},
   "outputs": [
    {
     "data": {
      "text/plain": [
       "(False, False)"
      ]
     },
     "execution_count": 197,
     "metadata": {},
     "output_type": "execute_result"
    }
   ],
   "source": [
    "pDC1 is pDC2, pDC1 is pDC3"
   ]
  },
  {
   "cell_type": "code",
   "execution_count": 198,
   "metadata": {},
   "outputs": [
    {
     "data": {
      "text/plain": [
       "(False, True)"
      ]
     },
     "execution_count": 198,
     "metadata": {},
     "output_type": "execute_result"
    }
   ],
   "source": [
    "hash(pDC1) == hash(pDC2), hash(pDC1) == hash(pDC3)"
   ]
  },
  {
   "cell_type": "code",
   "execution_count": 200,
   "metadata": {},
   "outputs": [
    {
     "ename": "FrozenInstanceError",
     "evalue": "cannot assign to field 'name'",
     "output_type": "error",
     "traceback": [
      "\u001b[0;31m---------------------------------------------------------------------------\u001b[0m",
      "\u001b[0;31mFrozenInstanceError\u001b[0m                       Traceback (most recent call last)",
      "Cell \u001b[0;32mIn[200], line 1\u001b[0m\n\u001b[0;32m----> 1\u001b[0m pDC1\u001b[39m.\u001b[39;49mname \u001b[39m=\u001b[39m \u001b[39m\"\u001b[39m\u001b[39mX\u001b[39m\u001b[39m\"\u001b[39m\n",
      "File \u001b[0;32m<string>:4\u001b[0m, in \u001b[0;36m__setattr__\u001b[0;34m(self, name, value)\u001b[0m\n",
      "\u001b[0;31mFrozenInstanceError\u001b[0m: cannot assign to field 'name'"
     ]
    }
   ],
   "source": [
    "pDC1.name = \"X\""
   ]
  },
  {
   "cell_type": "code",
   "execution_count": 202,
   "metadata": {},
   "outputs": [],
   "source": [
    "from dataclasses import dataclass, field\n",
    "\n",
    "@dataclass(unsafe_hash=True) # generates the __hash__ function\n",
    "class PersonDC:\n",
    "    name: str = field(compare=False)\n",
    "    age: int = field(compare=False)\n",
    "    ssn: str # the class is hashble but still muttable, including the ssn field"
   ]
  },
  {
   "cell_type": "code",
   "execution_count": 203,
   "metadata": {},
   "outputs": [
    {
     "data": {
      "text/plain": [
       "PersonDC(name='A', age=35, ssn=987)"
      ]
     },
     "execution_count": 203,
     "metadata": {},
     "output_type": "execute_result"
    }
   ],
   "source": [
    "p1 = PersonDC(\"A\", 35, 456)\n",
    "p1.ssn = 987\n",
    "p1"
   ]
  },
  {
   "cell_type": "code",
   "execution_count": null,
   "metadata": {},
   "outputs": [],
   "source": [
    "from dataclasses import dataclass, field\n",
    "\n",
    "@dataclass(unsafe_hash=True) # generates the __hash__ function\n",
    "class PersonDC:\n",
    "    name: str = field(compare=False)\n",
    "    age: int = field(compare=False)\n",
    "    ssn: str"
   ]
  },
  {
   "attachments": {},
   "cell_type": "markdown",
   "metadata": {},
   "source": [
    "## Key-only Arguments - second approach"
   ]
  },
  {
   "cell_type": "code",
   "execution_count": null,
   "metadata": {},
   "outputs": [],
   "source": [
    "from dataclasses import InitVar, field\n",
    "\n",
    "@dataclass\n",
    "class CircleDataClass:\n",
    "    x: int = 0\n",
    "    y: int = 0\n",
    "    radius: int = 1\n",
    "    translate_x: InitVar[int] = field(default=0, kw_only=True) \n",
    "    translate_y: InitVar[int] = field(default=0, kw_only=True)\n",
    "\n",
    "    def __post_init__(self, translate_x, translate_y): # args must be in the same order as it is defined.\n",
    "        print(f\"Translating center by: \\u0394x={translate_x}, \\u0394y={translate_y}\")\n",
    "        self.x += translate_x # overwrite the variables \n",
    "        self.y += translate_y # overwrite the variables"
   ]
  },
  {
   "attachments": {},
   "cell_type": "markdown",
   "metadata": {},
   "source": [
    "## Creating `dataclasses` programatically"
   ]
  },
  {
   "cell_type": "code",
   "execution_count": 2,
   "metadata": {},
   "outputs": [],
   "source": [
    "from dataclasses import dataclass, InitVar, field\n",
    "\n",
    "@dataclass\n",
    "class CircleDataClass:\n",
    "    x: int = 0\n",
    "    y: int = 0\n",
    "    radius: int = 1\n",
    "    translate_x: InitVar[int] = field(default=0, kw_only=True) \n",
    "    translate_y: InitVar[int] = field(default=0, kw_only=True)\n",
    "\n",
    "    def __post_init__(self, translate_x, translate_y): # args must be in the same order as it is defined.\n",
    "        print(f\"Translating center by: \\u0394x={translate_x}, \\u0394y={translate_y}\")\n",
    "        self.x += translate_x # overwrite the variables \n",
    "        self.y += translate_y # overwrite the variables"
   ]
  },
  {
   "cell_type": "code",
   "execution_count": 11,
   "metadata": {},
   "outputs": [],
   "source": [
    "from dataclasses import make_dataclass\n",
    "\n",
    "def post_init(self, translate_x: int, translate_y: int):\n",
    "    print(f\"Translating center by: \\u0394x={translate_x}, \\u0394y={translate_y}\")\n",
    "    self.x += translate_x\n",
    "    self.y += translate_y\n",
    "\n",
    "CircleDataClass02 = make_dataclass(\n",
    "    \"CircleDataClass02\", # class name\n",
    "    [\n",
    "        (\"x\", int, 0), # (field name, field type, default value)\n",
    "        (\"y\", int, 0),\n",
    "        (\"radius\", int, 0),\n",
    "        (\"translate_x\", InitVar[int], field(default=0, kw_only=True)),\n",
    "        (\"translate_y\", InitVar[int], field(default=0, kw_only=True)),\n",
    "    ],\n",
    "    order=True, # arguments\n",
    "    # namespace - extra stuff inside the dataclass\n",
    "    namespace = {\n",
    "        \"__post_init__\": post_init\n",
    "    }\n",
    ")"
   ]
  },
  {
   "cell_type": "code",
   "execution_count": 12,
   "metadata": {},
   "outputs": [
    {
     "name": "stdout",
     "output_type": "stream",
     "text": [
      "Translating center by: Δx=0, Δy=0\n"
     ]
    },
    {
     "data": {
      "text/plain": [
       "CircleDataClass02(x=0, y=0, radius=0)"
      ]
     },
     "execution_count": 12,
     "metadata": {},
     "output_type": "execute_result"
    }
   ],
   "source": [
    "c = CircleDataClass02()\n",
    "c"
   ]
  },
  {
   "attachments": {},
   "cell_type": "markdown",
   "metadata": {},
   "source": [
    "## Adding custom `metadata` to the fields of the dataclass"
   ]
  },
  {
   "cell_type": "code",
   "execution_count": 17,
   "metadata": {},
   "outputs": [],
   "source": [
    "from dataclasses import dataclass, field, fields\n",
    "\n",
    "@dataclass(unsafe_hash=True) # generates the __hash__ function\n",
    "class PersonDC:\n",
    "    name: str = field(compare=False, metadata={\"table\": \"person\", \"column\": \"name\"})\n",
    "    age: int = field(compare=False, metadata={\"table\": \"person\", \"column\": \"current_age\"})\n",
    "    ssn: str = field(metadata={\"table\": \"person\", \"column\": \"ssn\"})"
   ]
  },
  {
   "cell_type": "code",
   "execution_count": 18,
   "metadata": {},
   "outputs": [
    {
     "data": {
      "text/plain": [
       "(Field(name='name',type=<class 'str'>,default=<dataclasses._MISSING_TYPE object at 0x110009ab0>,default_factory=<dataclasses._MISSING_TYPE object at 0x110009ab0>,init=True,repr=True,hash=None,compare=False,metadata=mappingproxy({'table': 'person', 'column': 'name'}),kw_only=False,_field_type=_FIELD),\n",
       " Field(name='age',type=<class 'int'>,default=<dataclasses._MISSING_TYPE object at 0x110009ab0>,default_factory=<dataclasses._MISSING_TYPE object at 0x110009ab0>,init=True,repr=True,hash=None,compare=False,metadata=mappingproxy({'table': 'person', 'column': 'current_age'}),kw_only=False,_field_type=_FIELD),\n",
       " Field(name='ssn',type=<class 'str'>,default=<dataclasses._MISSING_TYPE object at 0x110009ab0>,default_factory=<dataclasses._MISSING_TYPE object at 0x110009ab0>,init=True,repr=True,hash=None,compare=True,metadata=mappingproxy({'table': 'person', 'column': 'ssn'}),kw_only=False,_field_type=_FIELD))"
      ]
     },
     "execution_count": 18,
     "metadata": {},
     "output_type": "execute_result"
    }
   ],
   "source": [
    "fields(PersonDC)"
   ]
  },
  {
   "cell_type": "code",
   "execution_count": 19,
   "metadata": {},
   "outputs": [
    {
     "name": "stdout",
     "output_type": "stream",
     "text": [
      "Help on class PersonDC in module __main__:\n",
      "\n",
      "class PersonDC(builtins.object)\n",
      " |  PersonDC(name: str, age: int, ssn: str) -> None\n",
      " |  \n",
      " |  PersonDC(name: str, age: int, ssn: str)\n",
      " |  \n",
      " |  Methods defined here:\n",
      " |  \n",
      " |  __eq__(self, other)\n",
      " |      Return self==value.\n",
      " |  \n",
      " |  __hash__(self)\n",
      " |      Return hash(self).\n",
      " |  \n",
      " |  __init__(self, name: str, age: int, ssn: str) -> None\n",
      " |      Initialize self.  See help(type(self)) for accurate signature.\n",
      " |  \n",
      " |  __repr__(self)\n",
      " |      Return repr(self).\n",
      " |  \n",
      " |  ----------------------------------------------------------------------\n",
      " |  Data descriptors defined here:\n",
      " |  \n",
      " |  __dict__\n",
      " |      dictionary for instance variables (if defined)\n",
      " |  \n",
      " |  __weakref__\n",
      " |      list of weak references to the object (if defined)\n",
      " |  \n",
      " |  ----------------------------------------------------------------------\n",
      " |  Data and other attributes defined here:\n",
      " |  \n",
      " |  __annotations__ = {'age': <class 'int'>, 'name': <class 'str'>, 'ssn':...\n",
      " |  \n",
      " |  __dataclass_fields__ = {'age': Field(name='age',type=<class 'int'>,def...\n",
      " |  \n",
      " |  __dataclass_params__ = _DataclassParams(init=True,repr=True,eq=True,or...\n",
      " |  \n",
      " |  __match_args__ = ('name', 'age', 'ssn')\n",
      "\n"
     ]
    }
   ],
   "source": [
    "help(PersonDC)"
   ]
  },
  {
   "cell_type": "code",
   "execution_count": 20,
   "metadata": {},
   "outputs": [
    {
     "data": {
      "text/plain": [
       "mappingproxy({'table': 'person', 'column': 'name'})"
      ]
     },
     "execution_count": 20,
     "metadata": {},
     "output_type": "execute_result"
    }
   ],
   "source": [
    "fields(PersonDC)[0].metadata"
   ]
  },
  {
   "attachments": {},
   "cell_type": "markdown",
   "metadata": {},
   "source": [
    "## Initializing fields with muttable objects\n",
    "- Factories: list, tuples"
   ]
  },
  {
   "attachments": {},
   "cell_type": "markdown",
   "metadata": {},
   "source": [
    "### wrong way to set a list in a function argument \n",
    "- The default empty list as function argument is \"created\" when the function is created and not when the function is called.\n",
    "- Every time the function is called, it feeds the same list object in memory. "
   ]
  },
  {
   "cell_type": "code",
   "execution_count": 21,
   "metadata": {},
   "outputs": [],
   "source": [
    "def squares(idx, lst = []):\n",
    "    lst.append((idx, idx ** 2))\n",
    "    return lst"
   ]
  },
  {
   "cell_type": "code",
   "execution_count": 22,
   "metadata": {},
   "outputs": [
    {
     "data": {
      "text/plain": [
       "[(1, 1)]"
      ]
     },
     "execution_count": 22,
     "metadata": {},
     "output_type": "execute_result"
    }
   ],
   "source": [
    "numbers = squares(1)\n",
    "numbers"
   ]
  },
  {
   "cell_type": "code",
   "execution_count": 23,
   "metadata": {},
   "outputs": [
    {
     "data": {
      "text/plain": [
       "[(1, 1), (2, 4)]"
      ]
     },
     "execution_count": 23,
     "metadata": {},
     "output_type": "execute_result"
    }
   ],
   "source": [
    "other_number = squares(2)\n",
    "other_number"
   ]
  },
  {
   "cell_type": "code",
   "execution_count": 24,
   "metadata": {},
   "outputs": [],
   "source": [
    "# this way the list is create only the fuction is called.\n",
    "def squares(idx, lst = None):\n",
    "    if lst is None:\n",
    "        lst = []\n",
    "    lst.append((idx, idx ** 2))\n",
    "    return lst"
   ]
  },
  {
   "cell_type": "code",
   "execution_count": 25,
   "metadata": {},
   "outputs": [
    {
     "data": {
      "text/plain": [
       "[(1, 1)]"
      ]
     },
     "execution_count": 25,
     "metadata": {},
     "output_type": "execute_result"
    }
   ],
   "source": [
    "numbers = squares(1)\n",
    "numbers"
   ]
  },
  {
   "cell_type": "code",
   "execution_count": 26,
   "metadata": {},
   "outputs": [
    {
     "data": {
      "text/plain": [
       "[(2, 4)]"
      ]
     },
     "execution_count": 26,
     "metadata": {},
     "output_type": "execute_result"
    }
   ],
   "source": [
    "other_number = squares(2)\n",
    "other_number"
   ]
  },
  {
   "attachments": {},
   "cell_type": "markdown",
   "metadata": {},
   "source": [
    "### `dataclass`.\n",
    "- Muttable value as default for a field reises an ValueError"
   ]
  },
  {
   "cell_type": "code",
   "execution_count": 33,
   "metadata": {},
   "outputs": [
    {
     "ename": "ValueError",
     "evalue": "mutable default <class 'list'> for field tests is not allowed: use default_factory",
     "output_type": "error",
     "traceback": [
      "\u001b[0;31m---------------------------------------------------------------------------\u001b[0m",
      "\u001b[0;31mValueError\u001b[0m                                Traceback (most recent call last)",
      "Cell \u001b[0;32mIn[33], line 4\u001b[0m\n\u001b[1;32m      1\u001b[0m \u001b[39mfrom\u001b[39;00m \u001b[39mdataclasses\u001b[39;00m \u001b[39mimport\u001b[39;00m dataclass\n\u001b[1;32m      3\u001b[0m \u001b[39m@dataclass\u001b[39;49m\n\u001b[0;32m----> 4\u001b[0m \u001b[39mclass\u001b[39;49;00m \u001b[39mTest\u001b[39;49;00m:\n\u001b[1;32m      5\u001b[0m     tests: \u001b[39mlist\u001b[39;49m \u001b[39m=\u001b[39;49m []\n\u001b[1;32m      7\u001b[0m     \u001b[39mdef\u001b[39;49;00m \u001b[39madd\u001b[39;49m(\u001b[39mself\u001b[39;49m, idx):\n",
      "File \u001b[0;32m/Library/Frameworks/Python.framework/Versions/3.10/lib/python3.10/dataclasses.py:1178\u001b[0m, in \u001b[0;36mdataclass\u001b[0;34m(cls, init, repr, eq, order, unsafe_hash, frozen, match_args, kw_only, slots)\u001b[0m\n\u001b[1;32m   1175\u001b[0m     \u001b[39mreturn\u001b[39;00m wrap\n\u001b[1;32m   1177\u001b[0m \u001b[39m# We're called as @dataclass without parens.\u001b[39;00m\n\u001b[0;32m-> 1178\u001b[0m \u001b[39mreturn\u001b[39;00m wrap(\u001b[39mcls\u001b[39;49m)\n",
      "File \u001b[0;32m/Library/Frameworks/Python.framework/Versions/3.10/lib/python3.10/dataclasses.py:1169\u001b[0m, in \u001b[0;36mdataclass.<locals>.wrap\u001b[0;34m(cls)\u001b[0m\n\u001b[1;32m   1168\u001b[0m \u001b[39mdef\u001b[39;00m \u001b[39mwrap\u001b[39m(\u001b[39mcls\u001b[39m):\n\u001b[0;32m-> 1169\u001b[0m     \u001b[39mreturn\u001b[39;00m _process_class(\u001b[39mcls\u001b[39;49m, init, \u001b[39mrepr\u001b[39;49m, eq, order, unsafe_hash,\n\u001b[1;32m   1170\u001b[0m                           frozen, match_args, kw_only, slots)\n",
      "File \u001b[0;32m/Library/Frameworks/Python.framework/Versions/3.10/lib/python3.10/dataclasses.py:950\u001b[0m, in \u001b[0;36m_process_class\u001b[0;34m(cls, init, repr, eq, order, unsafe_hash, frozen, match_args, kw_only, slots)\u001b[0m\n\u001b[1;32m    947\u001b[0m         kw_only \u001b[39m=\u001b[39m \u001b[39mTrue\u001b[39;00m\n\u001b[1;32m    948\u001b[0m     \u001b[39melse\u001b[39;00m:\n\u001b[1;32m    949\u001b[0m         \u001b[39m# Otherwise it's a field of some type.\u001b[39;00m\n\u001b[0;32m--> 950\u001b[0m         cls_fields\u001b[39m.\u001b[39mappend(_get_field(\u001b[39mcls\u001b[39;49m, name, \u001b[39mtype\u001b[39;49m, kw_only))\n\u001b[1;32m    952\u001b[0m \u001b[39mfor\u001b[39;00m f \u001b[39min\u001b[39;00m cls_fields:\n\u001b[1;32m    953\u001b[0m     fields[f\u001b[39m.\u001b[39mname] \u001b[39m=\u001b[39m f\n",
      "File \u001b[0;32m/Library/Frameworks/Python.framework/Versions/3.10/lib/python3.10/dataclasses.py:807\u001b[0m, in \u001b[0;36m_get_field\u001b[0;34m(cls, a_name, a_type, default_kw_only)\u001b[0m\n\u001b[1;32m    805\u001b[0m \u001b[39m# For real fields, disallow mutable defaults for known types.\u001b[39;00m\n\u001b[1;32m    806\u001b[0m \u001b[39mif\u001b[39;00m f\u001b[39m.\u001b[39m_field_type \u001b[39mis\u001b[39;00m _FIELD \u001b[39mand\u001b[39;00m \u001b[39misinstance\u001b[39m(f\u001b[39m.\u001b[39mdefault, (\u001b[39mlist\u001b[39m, \u001b[39mdict\u001b[39m, \u001b[39mset\u001b[39m)):\n\u001b[0;32m--> 807\u001b[0m     \u001b[39mraise\u001b[39;00m \u001b[39mValueError\u001b[39;00m(\u001b[39mf\u001b[39m\u001b[39m'\u001b[39m\u001b[39mmutable default \u001b[39m\u001b[39m{\u001b[39;00m\u001b[39mtype\u001b[39m(f\u001b[39m.\u001b[39mdefault)\u001b[39m}\u001b[39;00m\u001b[39m for field \u001b[39m\u001b[39m'\u001b[39m\n\u001b[1;32m    808\u001b[0m                      \u001b[39mf\u001b[39m\u001b[39m'\u001b[39m\u001b[39m{\u001b[39;00mf\u001b[39m.\u001b[39mname\u001b[39m}\u001b[39;00m\u001b[39m is not allowed: use default_factory\u001b[39m\u001b[39m'\u001b[39m)\n\u001b[1;32m    810\u001b[0m \u001b[39mreturn\u001b[39;00m f\n",
      "\u001b[0;31mValueError\u001b[0m: mutable default <class 'list'> for field tests is not allowed: use default_factory"
     ]
    }
   ],
   "source": [
    "from dataclasses import dataclass\n",
    "\n",
    "@dataclass\n",
    "class Test:\n",
    "    tests: list = []\n",
    "\n",
    "    def add(self, idx):\n",
    "        self.tests.append((idx, idx ** 2))"
   ]
  },
  {
   "cell_type": "code",
   "execution_count": 31,
   "metadata": {},
   "outputs": [],
   "source": [
    "from dataclasses import dataclass, field\n",
    "\n",
    "@dataclass\n",
    "class Test:\n",
    "    # factory function\n",
    "    tests: list = field(default_factory=list)\n",
    "\n",
    "    def add(self, idx):\n",
    "        self.tests.append((idx, idx ** 2))"
   ]
  },
  {
   "cell_type": "code",
   "execution_count": 32,
   "metadata": {},
   "outputs": [
    {
     "data": {
      "text/plain": [
       "[(1, 1), (2, 4)]"
      ]
     },
     "execution_count": 32,
     "metadata": {},
     "output_type": "execute_result"
    }
   ],
   "source": [
    "t1 = Test()\n",
    "t1.add(1)\n",
    "t1.add(2)\n",
    "t1.tests"
   ]
  },
  {
   "cell_type": "code",
   "execution_count": 34,
   "metadata": {},
   "outputs": [
    {
     "data": {
      "text/plain": [
       "[(1, 1)]"
      ]
     },
     "execution_count": 34,
     "metadata": {},
     "output_type": "execute_result"
    }
   ],
   "source": [
    "t2 = Test()\n",
    "t2.add(1)\n",
    "t2.tests"
   ]
  },
  {
   "cell_type": "code",
   "execution_count": null,
   "metadata": {},
   "outputs": [],
   "source": []
  }
 ],
 "metadata": {
  "kernelspec": {
   "display_name": "Python 3",
   "language": "python",
   "name": "python3"
  },
  "language_info": {
   "codemirror_mode": {
    "name": "ipython",
    "version": 3
   },
   "file_extension": ".py",
   "mimetype": "text/x-python",
   "name": "python",
   "nbconvert_exporter": "python",
   "pygments_lexer": "ipython3",
   "version": "3.10.0"
  },
  "orig_nbformat": 4
 },
 "nbformat": 4,
 "nbformat_minor": 2
}
